{
  "cells": [
    {
      "cell_type": "markdown",
      "metadata": {
        "id": "v8pFWwviib2C"
      },
      "source": [
        "![Growdev](https://www.growdev.com.br/assets/images/logo_growdev.png)"
      ]
    },
    {
      "cell_type": "markdown",
      "metadata": {
        "id": "6Tkl4_HxifXZ"
      },
      "source": [
        "![Formação Engenharia de Dados](https://d335luupugsy2.cloudfront.net/cms/files/524558/1707226566/$occu5m8t1op)"
      ]
    },
    {
      "cell_type": "markdown",
      "metadata": {
        "id": "ty7Bzyl1i9bN"
      },
      "source": [
        "Este material tem como objetivo incentivar a prática dos conteúdos estudados até o momento, e a pesquisa. Tenha em consideração que o exercício foi pensado para incentivar a prática dos conteúdos estudados até então, porém aprender a pesquisar faz parte do processo de aprendizagem.\n",
        "\n",
        "Fique tranquilo, faça os exercícios com calma, e boa prática!\n"
      ]
    },
    {
      "cell_type": "markdown",
      "metadata": {
        "id": "DU5-yCQwjx3V"
      },
      "source": [
        "#Orientações:\n",
        "\n",
        " - Faça uma copia deste arquivo\n",
        " - Após concluir os exercicios, suba seu exercicio para o GitHub e compartilhe o link no **google** Classroom\n"
      ]
    },
    {
      "cell_type": "markdown",
      "metadata": {
        "id": "EzT810tnlmfE"
      },
      "source": [
        "#Exercícios"
      ]
    },
    {
      "cell_type": "markdown",
      "metadata": {
        "id": "p62-CTXgvn5E"
      },
      "source": [
        "\n",
        "1- Escrever um programa que lê 5 valores para a, um de cada vez, e conta quantos destes valores são negativos, escrevendo esta informação."
      ]
    },
    {
      "cell_type": "code",
      "execution_count": 3,
      "metadata": {},
      "outputs": [
        {
          "name": "stdout",
          "output_type": "stream",
          "text": [
            "Foram digitados 5 valores negativos.\n"
          ]
        }
      ],
      "source": [
        "contador_negativos = 0\n",
        "\n",
        "# Lendo e contando valores\n",
        "for i in range(5):\n",
        "  valor = float(input(\"Digite um valor: \"))\n",
        "  if valor < 0:\n",
        "    contador_negativos += 1\n",
        "\n",
        "# Mostrando resultado\n",
        "print(f\"Foram digitados {contador_negativos} valores negativos.\")"
      ]
    },
    {
      "cell_type": "markdown",
      "metadata": {
        "id": "59g_B9yRvqYS"
      },
      "source": [
        "2 - A prefeitura de uma cidade fez uma pesquisa entre seus habitantes, coletando dados sobre o salário e número de filhos. A prefeitura deseja saber:\n",
        "\n",
        "a) média do salário da população;\n",
        "\n",
        "b) média do número de filhos;\n",
        "\n",
        "c) maior salário;\n",
        "\n",
        "d) percentual de pessoas com salário até R$2000,00.\n",
        "\n",
        "Escreva um programa que receba as informações necessárias de 5 pessoas conforme a descrição e responda às questões a, b, c e d anteriores.\n"
      ]
    },
    {
      "cell_type": "code",
      "execution_count": 43,
      "metadata": {
        "id": "hz6OkEJBv52O"
      },
      "outputs": [
        {
          "name": "stdout",
          "output_type": "stream",
          "text": [
            "A lista de frutas possui 5 elementos.\n"
          ]
        }
      ],
      "source": [
        "\n",
        "# Variáveis para armazenar os dados\n",
        "salarios = []\n",
        "num_filhos = []\n",
        "\n",
        "# Coletando informações das 5 pessoas\n",
        "for i in range(5):\n",
        "    salario = float(input(\"Digite o salário da pessoa {}: R$ \".format(i+1)))\n",
        "    num_filho = int(input(\"Digite o número de filhos da pessoa {}: \".format(i+1)))\n",
        "    salarios.append(salario)\n",
        "    num_filhos.append(num_filho)\n",
        "\n",
        "# Calculando a média do salário\n",
        "media_salario = sum(salarios) / len(salarios)\n",
        "\n",
        "# Calculando a média do número de filhos\n",
        "media_filhos = sum(num_filhos) / len(num_filhos)\n",
        "\n",
        "# Encontrando o maior salário\n",
        "maior_salario = max(salarios)\n",
        "\n",
        "# Calculando o percentual de pessoas com salário até R$2000,00\n",
        "percentual_salario_ate_2000 = (sum(1 for salario in salarios if salario <= 2000) / len(salarios)) * 100\n",
        "\n",
        "# Exibindo os resultados\n",
        "print(\"\\nResultados:\")\n",
        "print(\"a) Média do salário da população: R$ {:.2f}\".format(media_salario))\n",
        "print(\"b) Média do número de filhos: {:.2f}\".format(media_filhos))\n",
        "print(\"c) Maior salário: R$ {:.2f}\".format(maior_salario))\n",
        "print(\"d) Percentual de pessoas com salário até R$2000,00: {:.2f}%\".format(percentual_salario_ate_2000))"
      ]
    },
    {
      "cell_type": "markdown",
      "metadata": {
        "id": "V-7kNtvtwDN1"
      },
      "source": [
        "3 - Chico tem 1,50 metro e cresce 2 centímetros por ano, enquanto Zé tem 1,10 metro e cresce 3 centímetros por ano. Construa um programa que calcule e imprima quantos anos serão necessários para que Zé seja maior que Chico."
      ]
    },
    {
      "cell_type": "code",
      "execution_count": null,
      "metadata": {
        "id": "Xlx4kqLpwE4L"
      },
      "outputs": [],
      "source": [
        "altura_Chico = 1.50\n",
        "altura_Ze = 1.10\n",
        "faixa_crescimento_Chico = 0.02\n",
        "faixa_crescimento_Ze = 0.03\n",
        "anos = 0\n",
        "\n",
        "while altura_Ze <= altura_Chico:\n",
        "    altura_Chico += faixa_crescimento_Chico\n",
        "    altura_Ze += faixa_crescimento_Ze\n",
        "    anos += 1\n",
        "\n",
        "print('Serão nescessários', anos, 'para Zé ficar maior que Chico')"
      ]
    },
    {
      "cell_type": "markdown",
      "metadata": {
        "id": "BU7x-lumwGRO"
      },
      "source": [
        "4 - Em uma eleição presidencial existem dois candidatos. Os votos são informados através de códigos. Os dados utilizados para a contagem dos votos obedecem à seguinte codificação:  \n",
        "\n",
        "1,2 = voto para os respectivos candidatos\n",
        "\n",
        "3 = voto nulo\n",
        "\n",
        "4 = voto em branco;\n",
        "\n",
        "Elabore um programa que leia o código de votação de 5 candidatos. Calcule e escreva:\n",
        "total de votos para cada candidato\n",
        "total de votos nulos\n",
        "total de votos em branco\n"
      ]
    },
    {
      "cell_type": "code",
      "execution_count": null,
      "metadata": {
        "id": "tnOkAb44wQo5"
      },
      "outputs": [],
      "source": [
        "voto_1 = 0\n",
        "voto_2 = 0\n",
        "voto_nulo = 0\n",
        "voto_branco = 0\n",
        "\n",
        "for i in range(5):\n",
        "    voto = int(input('Insira seu voto: '))\n",
        "    if voto == 1:\n",
        "        voto_1 += 1\n",
        "    elif voto == 2:\n",
        "        voto_2 += 1\n",
        "    elif voto == 3:\n",
        "        voto_nulo +=1\n",
        "    else:\n",
        "        voto_branco +=1\n",
        "\n",
        "print('O total de votos para o Candidato 1 é de:', voto_1,\n",
        "      '\\nO total de votos para o candidato 2 é de:',voto_2,\n",
        "      '\\nTotal de votos nulos:', voto_nulo, \n",
        "      '\\nE o total de votos em brancos é', voto_branco) "
      ]
    },
    {
      "cell_type": "markdown",
      "metadata": {
        "id": "oNyazyHPwzlo"
      },
      "source": [
        "5 - Escreva um programa que receba o nome de 10 pessoas e para cada pessoa, o lugar para o qual ela já viajou. Sendo que existem 3 possibilidades:\n",
        "\n",
        "Rio de Janeiro\n",
        "\n",
        "Bahia\n",
        "\n",
        "Minas Gerais\n",
        "\n",
        "Após, informar qual foi o destino mais visitado e qual o menos visitado.\n"
      ]
    },
    {
      "cell_type": "code",
      "execution_count": null,
      "metadata": {
        "id": "FzTr2EY1w2Ey"
      },
      "outputs": [],
      "source": [
        "#recebe a contagem de destinos\n",
        "contagem_destinos = {\"Rio de Janeiro\": 0, \"Bahia\": 0, \"Minas Gerais\": 0}\n",
        "\n",
        "# Loop para receber o nome e destino de 10 pessoas\n",
        "for _ in range(10):\n",
        "    nome = input(\"Digite o nome da pessoa: \")\n",
        "    destino = input(f\"Digite o destino para o qual {nome} viajou (Rio de Janeiro, Bahia, Minas Gerais): \")\n",
        "    \n",
        "    # Verificando se o destino fornecido é válido e incrementando a contagem de visitas\n",
        "    if destino in contagem_destinos:\n",
        "        contagem_destinos[destino] += 1\n",
        "    else:\n",
        "        print(\"Destino inválido, tente novamente.\")\n",
        "\n",
        "# Determinação do destino mais visitado e do menos visitado\n",
        "destino_mais_visitado = max(contagem_destinos, key=contagem_destinos.get)\n",
        "destino_menos_visitado = min(contagem_destinos, key=contagem_destinos.get)\n",
        "\n",
        "# Exibição dos resultados\n",
        "print(f\"O destino mais visitado foi: {destino_mais_visitado}\")\n",
        "print(f\"O destino menos visitado foi: {destino_menos_visitado}\")\n",
        "\n"
      ]
    },
    {
      "cell_type": "markdown",
      "metadata": {
        "id": "HVJPsqTcw95-"
      },
      "source": [
        "6 -  A série de Fibonacci é formada pela sequência 1,1,2,3,5,8,13,21,34,55,... Faça um programa capaz de gerar a série até o n−ésimo termo."
      ]
    },
    {
      "cell_type": "code",
      "execution_count": null,
      "metadata": {
        "id": "ZwgmpSgGw-v3"
      },
      "outputs": [],
      "source": [
        "n = int(input('Digite a quantidade de termos: '))\n",
        "t1 = 0\n",
        "t2 = 1\n",
        "cont = 3\n",
        "print('{} - {}'.format(t1, t2), end='')\n",
        "while cont <= n:\n",
        "    t3 = t1 + t2\n",
        "    print(' - {}'.format(t3), end='')\n",
        "    t1 = t2\n",
        "    t2 = t3\n",
        "    cont += 1\n",
        "\n",
        "print(' - Fim')"
      ]
    },
    {
      "cell_type": "markdown",
      "metadata": {
        "id": "DaF7vXEWxB6R"
      },
      "source": [
        "7 - Escreva um programa que conte em ordem reversa, de 25 a zero."
      ]
    },
    {
      "cell_type": "code",
      "execution_count": null,
      "metadata": {
        "id": "2AYe_lX2xCdj"
      },
      "outputs": [],
      "source": [
        "for i in range(25,-1,-1):\n",
        "    print(i)"
      ]
    },
    {
      "cell_type": "markdown",
      "metadata": {
        "id": "Oc2yjIGqxF3h"
      },
      "source": [
        "8 - Crie um programa para que retorne o somatório de todos os números entre 1 e um valor fornecido pelo usuário. Por exemplo, se o usuário fornecer o número 4, o computador deverá calcular o somatório 1+ 2 + 3 + 4 = 10."
      ]
    },
    {
      "cell_type": "code",
      "execution_count": 37,
      "metadata": {
        "id": "m5gfIfomxGwe"
      },
      "outputs": [
        {
          "name": "stdout",
          "output_type": "stream",
          "text": [
            "A soma de todos os numeros, entre 1 e 9 é igual a 45\n"
          ]
        }
      ],
      "source": [
        "numero = int(input('Digite um numero positivo: '))\n",
        "\n",
        "somatório = sum(range(1, numero + 1))\n",
        "\n",
        "print('A soma de todos os numeros, entre 1 e', numero, 'é igual a', somatório)   "
      ]
    },
    {
      "cell_type": "markdown",
      "metadata": {
        "id": "5D368hETyJQh"
      },
      "source": [
        "9 - Escreva um programa que leia a idade e salário de 10 pessoas. Informe em seguida:\n",
        "Qual é a média de idade entre as pessoas?\n",
        "Quantas pessoas há por faixa etária, considerando:\n",
        "jovens < 18\n",
        "18 <= adultos < 60\n",
        "idosos >= 60\n",
        "Em seguida, mostre qual é a faixa etária que acumula o maior salário.\n"
      ]
    },
    {
      "cell_type": "code",
      "execution_count": null,
      "metadata": {
        "id": "zZsS7JHm0UY6"
      },
      "outputs": [],
      "source": []
    },
    {
      "cell_type": "markdown",
      "metadata": {
        "id": "L4xlYJzdhZyV"
      },
      "source": [
        "10 - Crie uma calculadora simples que realiza operações de adição, subtração, multiplicação, divisão e exponenciação. O programa deve continuar pedindo operações até que o usuário escolha sair."
      ]
    },
    {
      "cell_type": "code",
      "execution_count": 49,
      "metadata": {
        "id": "t1GTUaOshazK"
      },
      "outputs": [
        {
          "name": "stdout",
          "output_type": "stream",
          "text": [
            "528\n",
            "59\n"
          ]
        }
      ],
      "source": [
        "fim = False\n",
        "\n",
        "while fim == False: \n",
        "    numero01 = int(input('Digite o primeiro numero: '))\n",
        "    funcao = input('Digite a funcção:\"+, -, *, /, **\" ')\n",
        "    numero02 = int(input('Digite o segundo numero: '))\n",
        "    encerrar = input('Para encerrar digite: Sair')   \n",
        "    \n",
        "    if encerrar == 'sair':\n",
        "        fim = True\n",
        "\n",
        "    if funcao == '+':\n",
        "        print(numero01+numero02)\n",
        "    elif funcao == '-':\n",
        "        print(numero01-numero02)\n",
        "    elif funcao == '*':\n",
        "        print(numero01*numero02)\n",
        "    elif funcao == '/':\n",
        "        print(numero01/numero02)\n",
        "    else:        \n",
        "        print(numero01**numero02)    "
      ]
    },
    {
      "cell_type": "markdown",
      "metadata": {
        "id": "TvOVLvpYhohk"
      },
      "source": [
        "11 - Crie um jogo em que o computador escolha um número aleatório entre 1 e 100, e o jogador tenta adivinhá-lo. O programa deve dar dicas se o número é maior ou menor do que o número digitado pelo jogador. O jogo continua até que o jogador acerte o número."
      ]
    },
    {
      "cell_type": "markdown",
      "metadata": {
        "id": "GMjNhBcxo3ks"
      },
      "source": [
        "Exemplo de saída:\n",
        "\n",
        "Bem-vindo ao jogo de adivinhação!\n",
        "\n",
        "Tente adivinhar o número entre 1 e 100.\n",
        "\n",
        "Digite sua tentativa: 50\n",
        "\n",
        "O número é menor.\n",
        "\n",
        "Digite sua tentativa: 75\n",
        "\n",
        "O número é maior.\n",
        "\n",
        "Digite sua tentativa: 63\n",
        "\n",
        "O número é menor.\n",
        "\n",
        "Digite sua tentativa: 68\n",
        "\n",
        "Parabéns! Você acertou o número 68 em 4 tentativas!"
      ]
    },
    {
      "cell_type": "code",
      "execution_count": null,
      "metadata": {
        "id": "wD7WVTzdh3Tf"
      },
      "outputs": [],
      "source": []
    },
    {
      "cell_type": "markdown",
      "metadata": {
        "id": "528JJZodmafY"
      },
      "source": [
        "12 - Escreva um programa que calcula o valor de um investimento após um número específico de anos, considerando juros compostos. O usuário deve fornecer o principal (valor inicial do investimento), a taxa de juros anual (em porcentagem) e o número de anos.\n",
        "\n",
        "A fórmula para calcular o valor de um investimento após n anos com juros compostos é:\n",
        "\n",
        "A=P×(1+r)^n\n",
        "\n",
        "\n",
        "Onde:\n",
        "\n",
        "\n",
        "A é o valor do investimento após n anos,\n",
        "\n",
        "P é o principal (valor inicial do investimento),\n",
        "\n",
        "r é a taxa de juros anual (em decimal), e\n",
        "\n",
        "n é o número de anos."
      ]
    },
    {
      "cell_type": "markdown",
      "metadata": {
        "id": "-6opTpcXoxNw"
      },
      "source": [
        "\n",
        "Exemplo de saída:\n",
        "\n",
        "Digite o principal (R$): 1000\n",
        "\n",
        "Digite a taxa de juros anual (%): 5\n",
        "\n",
        "Digite o número de anos: 10\n",
        "\n",
        "O valor do investimento após 10 anos é: R$ 1628.89"
      ]
    },
    {
      "cell_type": "code",
      "execution_count": 17,
      "metadata": {
        "id": "3XHAThk1oFIT"
      },
      "outputs": [
        {
          "name": "stdout",
          "output_type": "stream",
          "text": [
            "O valor do investimento após 10 anos, é de R$1628.89\n"
          ]
        }
      ],
      "source": [
        "valor_investido = float(input('Digite o valor do investimento: '))\n",
        "taxa_juros_anual = float(input('Digite a taxa de juros: '))\n",
        "quantidade_anos = int(input('Digita quantidade de anos: '))\n",
        "\n",
        "taxa_juros_anual = taxa_juros_anual/100\n",
        "\n",
        "a = valor_investido * (1+taxa_juros_anual) ** quantidade_anos\n",
        "a = round(a, 2)\n",
        "print(f'O valor do investimento após {quantidade_anos} anos, é de R${a}')"
      ]
    }
  ],
  "metadata": {
    "colab": {
      "provenance": []
    },
    "kernelspec": {
      "display_name": "Python 3",
      "name": "python3"
    },
    "language_info": {
      "codemirror_mode": {
        "name": "ipython",
        "version": 3
      },
      "file_extension": ".py",
      "mimetype": "text/x-python",
      "name": "python",
      "nbconvert_exporter": "python",
      "pygments_lexer": "ipython3",
      "version": "3.11.7"
    }
  },
  "nbformat": 4,
  "nbformat_minor": 0
}
