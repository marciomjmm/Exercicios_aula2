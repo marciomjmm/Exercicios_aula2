{
  "cells": [
    {
      "cell_type": "markdown",
      "metadata": {
        "id": "v8pFWwviib2C"
      },
      "source": [
        "![Growdev](https://www.growdev.com.br/assets/images/logo_growdev.png)"
      ]
    },
    {
      "cell_type": "markdown",
      "metadata": {
        "id": "6Tkl4_HxifXZ"
      },
      "source": [
        "![Formação Engenharia de Dados](https://d335luupugsy2.cloudfront.net/cms/files/524558/1707226566/$occu5m8t1op)"
      ]
    },
    {
      "cell_type": "markdown",
      "metadata": {
        "id": "ty7Bzyl1i9bN"
      },
      "source": [
        "Este material tem como objetivo incentivar a prática dos conteúdos estudados até o momento, e a pesquisa. Tenha em consideração que o exercício foi pensado para incentivar a prática dos conteúdos estudados até então, porém aprender a pesquisar faz parte do processo de aprendizagem.\n",
        "\n",
        "Fique tranquilo, faça os exercícios com calma, e boa prática!\n"
      ]
    },
    {
      "cell_type": "markdown",
      "metadata": {
        "id": "DU5-yCQwjx3V"
      },
      "source": [
        "#Orientações:\n",
        "\n",
        " - Faça uma copia deste arquivo\n",
        " - Após concluir os exercicios, suba seu exercicio para o GitHub e compartilhe o link no **google** Classroom\n"
      ]
    },
    {
      "cell_type": "markdown",
      "metadata": {
        "id": "jPJ5hyxa2cos"
      },
      "source": [
        "\n",
        "Utilize o dataset contido nesse [link](https://www.kaggle.com/datasets/upadorprofzs/testes), e responda as questões abaixo.\n",
        "\n",
        "O dataset contém dados estatísticos do IBGE relativos à escolaridade, renda entre outros campos avaliados pela  PNAD (Pesquisa Nacional por Amostra de Domicílios).\n",
        "\n",
        "Os dados podem representar informações relevantes e reveladoras sobre a distribuição de renda e possivelmente alguns indicadores sobre tais situações encontradas a partir dos dados."
      ]
    },
    {
      "cell_type": "markdown",
      "metadata": {
        "id": "EzT810tnlmfE"
      },
      "source": [
        "#Exercícios"
      ]
    },
    {
      "cell_type": "markdown",
      "metadata": {
        "id": "sYEv1vohLu34"
      },
      "source": [
        "Qual a quantidade de pessoas nas seguintes faixas etárias\n",
        "- 20 anos ou menos\n",
        "- 21 a 35 anos\n",
        "- 36 a 50 anos\n",
        "- 51 a 65 anos\n",
        "- maiores de 65 anos\n",
        "\n"
      ]
    },
    {
      "cell_type": "code",
      "execution_count": 65,
      "metadata": {
        "id": "0drCl45SMELV"
      },
      "outputs": [
        {
          "name": "stdout",
          "output_type": "stream",
          "text": [
            "Quantidade de pessoas com 20 anos ou menos: 764\n",
            "Quantidade de pessoas com 21 a 35 anos: 20654\n",
            "Quantidade de pessoas com 36 a 50 anos: 31770\n",
            "Quantidade de pessoas com 51 a 65 anos: 20006\n",
            "Quantidade de pessoas com mais de 65 anos: 3646\n"
          ]
        }
      ],
      "source": [
        "import pandas as pd\n",
        "\n",
        "df = pd.read_csv('dados_ibge.csv')\n",
        "\n",
        "faixa1 = len(df[df['Idade'] <= 20])\n",
        "faixa2 = len(df[(df['Idade'] >= 21) & (df['Idade'] <= 35)])\n",
        "faixa3 = len(df[(df['Idade'] >= 36) & (df['Idade'] <= 50)])\n",
        "faixa4 = len(df[(df['Idade'] >= 51) & (df['Idade'] <= 65)])\n",
        "faixa5 = len(df[df['Idade'] > 65])\n",
        "\n",
        "print(f\"Quantidade de pessoas com 20 anos ou menos: {faixa1}\")\n",
        "print(f\"Quantidade de pessoas com 21 a 35 anos: {faixa2}\")\n",
        "print(f\"Quantidade de pessoas com 36 a 50 anos: {faixa3}\")\n",
        "print(f\"Quantidade de pessoas com 51 a 65 anos: {faixa4}\")\n",
        "print(f\"Quantidade de pessoas com mais de 65 anos: {faixa5}\")"
      ]
    },
    {
      "cell_type": "markdown",
      "metadata": {
        "id": "6y7X1dc-MFr1"
      },
      "source": [
        "Qual é a média de escolaridade em cada faixa etária?\n"
      ]
    },
    {
      "cell_type": "code",
      "execution_count": 63,
      "metadata": {
        "id": "6X6M5T7EMb-G"
      },
      "outputs": [
        {
          "name": "stdout",
          "output_type": "stream",
          "text": [
            "Média de escolaridade para 20 anos ou menos: 9.7 anos\n",
            "Média de escolaridade para 21 a 35 anos: 10.8 anos\n",
            "Média de escolaridade para 36 a 50 anos: 9.8 anos\n",
            "Média de escolaridade para 51 a 65 anos: 8.3 anos\n",
            "Média de escolaridade para maiores de 65 anos: 5.8 anos\n"
          ]
        }
      ],
      "source": [
        "import pandas as pd\n",
        "\n",
        "df = pd.read_csv('dados_ibge.csv')\n",
        "\n",
        "faixas_etarias = {\n",
        "    \"20 anos ou menos\": df[df['Idade'] <= 20],\n",
        "    \"21 a 35 anos\": df[(df['Idade'] >= 21) & (df['Idade'] <= 35)],\n",
        "    \"36 a 50 anos\": df[(df['Idade'] >= 36) & (df['Idade'] <= 50)],\n",
        "    \"51 a 65 anos\": df[(df['Idade'] >= 51) & (df['Idade'] <= 65)],\n",
        "    \"maiores de 65 anos\": df[df['Idade'] > 65]\n",
        "}\n",
        "\n",
        "medias_escolaridade = {faixa: grupo['Anos de Estudo'].mean() for faixa, grupo in faixas_etarias.items()}\n",
        "\n",
        "for faixa, media in medias_escolaridade.items():\n",
        "    print(f\"Média de escolaridade para {faixa}: {media:.1f} anos\")"
      ]
    },
    {
      "cell_type": "markdown",
      "metadata": {
        "id": "FgEq2x_mMicx"
      },
      "source": [
        "Qual a UF que concentra a maior renda?\n"
      ]
    },
    {
      "cell_type": "code",
      "execution_count": 61,
      "metadata": {
        "id": "EFe-4pq8NGRf"
      },
      "outputs": [
        {
          "name": "stdout",
          "output_type": "stream",
          "text": [
            "A UF com a maior renda é 35 com renda total de 22539969\n"
          ]
        }
      ],
      "source": [
        "import pandas as pd\n",
        "\n",
        "df = pd.read_csv('dados_ibge.csv')\n",
        "\n",
        "renda_por_uf = df.groupby('UF')['Renda'].sum()\n",
        "\n",
        "uf_maior_renda = renda_por_uf.idxmax()\n",
        "maior_renda = renda_por_uf.max()\n",
        "\n",
        "print(f\"A UF com a maior renda é {uf_maior_renda} com renda total de {maior_renda}\")"
      ]
    },
    {
      "cell_type": "markdown",
      "metadata": {
        "id": "VFXayO6DNJ3F"
      },
      "source": [
        "Qual a renda média de pessoas pretas e brancas de homens e mulheres?\n"
      ]
    },
    {
      "cell_type": "code",
      "execution_count": 59,
      "metadata": {
        "id": "JUO0B9kWNcCX"
      },
      "outputs": [
        {
          "name": "stdout",
          "output_type": "stream",
          "text": [
            "Renda média por raça e gênero:\n",
            "Sexo       feminino    masculino\n",
            "Cor                             \n",
            "branca  2109.866750  2925.744435\n",
            "preta   1176.758516  1659.577425\n"
          ]
        }
      ],
      "source": [
        "import pandas as pd\n",
        "\n",
        "df = pd.read_csv('dados_ibge.csv')\n",
        "#display(df)\n",
        "\n",
        "df['Cor'] = df['Cor'].map({2: 'branca', 8: 'preta'})\n",
        "df['Sexo'] = df['Sexo'].map({0: 'masculino', 1: 'feminino'})\n",
        "\n",
        "renda_media = df.groupby(['Cor', 'Sexo'])['Renda'].mean().unstack()\n",
        "\n",
        "print(\"Renda média por raça e gênero:\")\n",
        "print(renda_media)"
      ]
    },
    {
      "cell_type": "markdown",
      "metadata": {
        "id": "aqaMxrGMNhQv"
      },
      "source": [
        "Qual a renda média concentrada em cada faixa etária?\n",
        "\n",
        "\n"
      ]
    },
    {
      "cell_type": "code",
      "execution_count": 56,
      "metadata": {
        "id": "yoT1FXJSzKwj"
      },
      "outputs": [
        {
          "name": "stdout",
          "output_type": "stream",
          "text": [
            "Renda média por faixa etária:\n",
            "20 anos ou menos: 985.35\n",
            "21 a 35 anos: 1748.29\n",
            "36 a 50 anos: 2113.76\n",
            "51 a 65 anos: 2150.20\n",
            "maiores de 65 anos: 1831.23\n"
          ]
        }
      ],
      "source": [
        "import pandas as pd\n",
        "\n",
        "df = pd.read_csv('dados_ibge.csv')\n",
        "\n",
        "faixas_etarias = {\n",
        "    \"20 anos ou menos\": df[df['Idade'] <= 20],\n",
        "    \"21 a 35 anos\": df[(df['Idade'] >= 21) & (df['Idade'] <= 35)],\n",
        "    \"36 a 50 anos\": df[(df['Idade'] >= 36) & (df['Idade'] <= 50)],\n",
        "    \"51 a 65 anos\": df[(df['Idade'] >= 51) & (df['Idade'] <= 65)],\n",
        "    \"maiores de 65 anos\": df[df['Idade'] > 65]\n",
        "}\n",
        "\n",
        "medias_renda = {faixa: grupo['Renda'].mean() for faixa, grupo in faixas_etarias.items()}\n",
        "\n",
        "print(\"Renda média por faixa etária:\")\n",
        "for faixa, media in medias_renda.items():\n",
        "    print(f\"{faixa}: {media:.2f}\")"
      ]
    },
    {
      "cell_type": "markdown",
      "metadata": {
        "id": "jMjZzRxr29TF"
      },
      "source": [
        "Qual a renda média nas faixas de anos de estudo abaixo?\n",
        "- 2 anos ou menos\n",
        "- 3 a 6 anos\n",
        "- 7 a 10 anos\n",
        "- 10 a 12 anos\n",
        "- 13 anos ou mais\n"
      ]
    },
    {
      "cell_type": "code",
      "execution_count": 55,
      "metadata": {
        "id": "ZWpciLPN3Ckx"
      },
      "outputs": [
        {
          "name": "stdout",
          "output_type": "stream",
          "text": [
            "Renda média por faixa de anos de estudo:\n",
            "2 anos ou menos: 747.10\n",
            "3 a 6 anos: 1089.38\n",
            "7 a 10 anos: 1370.89\n",
            "10 a 12 anos: 1773.13\n",
            "13 anos ou mais: 4434.41\n"
          ]
        }
      ],
      "source": [
        "import pandas as pd\n",
        "\n",
        "df = pd.read_csv('dados_ibge.csv')\n",
        "\n",
        "faixas_estudo = {\n",
        "    \"2 anos ou menos\": df[df['Anos de Estudo'] <= 2],\n",
        "    \"3 a 6 anos\": df[(df['Anos de Estudo'] >= 3) & (df['Anos de Estudo'] <= 6)],\n",
        "    \"7 a 10 anos\": df[(df['Anos de Estudo'] >= 7) & (df['Anos de Estudo'] <= 10)],\n",
        "    \"10 a 12 anos\": df[(df['Anos de Estudo'] >= 10) & (df['Anos de Estudo'] <= 12)],\n",
        "    \"13 anos ou mais\": df[df['Anos de Estudo'] >= 13]\n",
        "}\n",
        "\n",
        "medias_renda = {faixa: grupo['Renda'].mean() for faixa, grupo in faixas_estudo.items()}\n",
        "\n",
        "print(\"Renda média por faixa de anos de estudo:\")\n",
        "for faixa, media in medias_renda.items():\n",
        "    print(f\"{faixa}: {media:.2f}\")"
      ]
    },
    {
      "cell_type": "markdown",
      "metadata": {
        "id": "fDxIIqqS3DHs"
      },
      "source": [
        "Qual a escolaridade entre indígenas, para homens e mulheres?\n"
      ]
    },
    {
      "cell_type": "code",
      "execution_count": 30,
      "metadata": {
        "id": "M85a5qNt3E2y"
      },
      "outputs": [
        {
          "name": "stdout",
          "output_type": "stream",
          "text": [
            "Escolaridade media entre indígenas, para homens e mulheres:\n",
            "Sexo\n",
            "0    8.514540\n",
            "1    9.522326\n",
            "Name: Anos de Estudo, dtype: float64\n"
          ]
        }
      ],
      "source": [
        "import pandas as pd\n",
        "\n",
        "df = pd.read_csv('dados_ibge.csv')\n",
        "\n",
        "indigenas = df[df['Cor'] == 4]\n",
        "\n",
        "escolaridade_media = indigenas.groupby('Sexo')['Anos de Estudo'].mean()\n",
        "\n",
        "print(\"Escolaridade media entre indígenas, para homens e mulheres:\")\n",
        "print(escolaridade_media)"
      ]
    },
    {
      "cell_type": "markdown",
      "metadata": {
        "id": "hgqYfhU33FtF"
      },
      "source": [
        "Qual a média de anos de estudo entre brancos e negros?\n"
      ]
    },
    {
      "cell_type": "code",
      "execution_count": 54,
      "metadata": {
        "id": "EK9X8wTZ3UdS"
      },
      "outputs": [
        {
          "name": "stdout",
          "output_type": "stream",
          "text": [
            "Média de anos de estudo entre brancos e negros:\n",
            "Cor\n",
            "branca    10.490303\n",
            "preta      8.689965\n",
            "Name: Anos de Estudo, dtype: float64\n"
          ]
        }
      ],
      "source": [
        "import pandas as pd\n",
        "\n",
        "df = pd.read_csv('dados_ibge.csv')\n",
        "df['Cor'] = df['Cor'].map({2: 'branca', 8: 'preta'})\n",
        "media_anos_estudo = df.groupby('Cor')['Anos de Estudo'].mean()\n",
        "\n",
        "print(\"Média de anos de estudo entre brancos e negros:\")\n",
        "print(media_anos_estudo)"
      ]
    },
    {
      "cell_type": "markdown",
      "metadata": {
        "id": "_ZjroKKB3WBx"
      },
      "source": [
        "Qual a média de anos de estudo e de renda para mulheres brancas, e para mulheres negras?"
      ]
    },
    {
      "cell_type": "code",
      "execution_count": 46,
      "metadata": {
        "id": "7dx7zW7M3Wau"
      },
      "outputs": [
        {
          "name": "stdout",
          "output_type": "stream",
          "text": [
            "Média de anos de estudo e de renda para mulheres brancas e negras:\n",
            "        Anos de Estudo        Renda\n",
            "Cor                                \n",
            "branca       11.297578  2109.866750\n",
            "preta         9.520714  1176.758516\n"
          ]
        }
      ],
      "source": [
        "import pandas as pd\n",
        "\n",
        "\n",
        "df = pd.read_csv('dados_ibge.csv')\n",
        "mulheres = df[df['Sexo'] == 1]\n",
        "df['Cor'] = df['Cor'].map({2: 'branca', 8: 'preta'})\n",
        "media_mulheres = mulheres.groupby(df['Cor'])[['Anos de Estudo', 'Renda']].mean()\n",
        "print(\"Média de anos de estudo e de renda para mulheres brancas e negras:\")\n",
        "print(media_mulheres)"
      ]
    },
    {
      "cell_type": "markdown",
      "metadata": {
        "id": "sG2Kkkrd3X5V"
      },
      "source": [
        " Qual é a UF com maior média de escolaridade e qual a UF com maior média de renda?"
      ]
    },
    {
      "cell_type": "code",
      "execution_count": 16,
      "metadata": {
        "id": "imgwaOGk3YNq"
      },
      "outputs": [
        {
          "name": "stdout",
          "output_type": "stream",
          "text": [
            "A UF com maior média de escolaridade é 53 com média de 11.91 anos de estudo.\n",
            "A UF com maior média de renda é 53 com média de R$4241.95.\n"
          ]
        }
      ],
      "source": [
        "import pandas as pd\n",
        "\n",
        "\n",
        "df = pd.read_csv('dados_ibge.csv')\n",
        "\n",
        "media_escolaridade_uf = df.groupby('UF')['Anos de Estudo'].mean()\n",
        "media_renda_uf = df.groupby('UF')['Renda'].mean()\n",
        "\n",
        "uf_maior_escolaridade = media_escolaridade_uf.idxmax()\n",
        "media_max_escolaridade = media_escolaridade_uf.max()\n",
        "\n",
        "uf_maior_renda = media_renda_uf.idxmax()\n",
        "media_max_renda = media_renda_uf.max()\n",
        "\n",
        "print(f\"A UF com maior média de escolaridade é {uf_maior_escolaridade} com média de {media_max_escolaridade:.2f} anos de estudo.\")\n",
        "print(f\"A UF com maior média de renda é {uf_maior_renda} com média de R${media_max_renda:.2f}.\")"
      ]
    },
    {
      "cell_type": "markdown",
      "metadata": {
        "id": "72Oy_JJ_3Z7F"
      },
      "source": [
        "Elabore você uma pergunta sobre a base de dados e escreva o código para responder a pergunta."
      ]
    },
    {
      "cell_type": "code",
      "execution_count": 68,
      "metadata": {
        "id": "YZFVy7UM3aPC"
      },
      "outputs": [
        {
          "name": "stdout",
          "output_type": "stream",
          "text": [
            "A média de renda das pessoas na base de dados é R$2000.38\n"
          ]
        }
      ],
      "source": [
        "##Pergunta: Qual é a media de renda de todas as pessoas na base de dados?\n",
        "\n",
        "import pandas as pd\n",
        "df = pd.read_csv('dados_ibge.csv')\n",
        "\n",
        "media_renda = df['Renda'].mean()\n",
        "print(f\"A média de renda das pessoas na base de dados é R${media_renda:.2f}\")"
      ]
    }
  ],
  "metadata": {
    "colab": {
      "provenance": []
    },
    "kernelspec": {
      "display_name": "Python 3",
      "name": "python3"
    },
    "language_info": {
      "codemirror_mode": {
        "name": "ipython",
        "version": 3
      },
      "file_extension": ".py",
      "mimetype": "text/x-python",
      "name": "python",
      "nbconvert_exporter": "python",
      "pygments_lexer": "ipython3",
      "version": "3.11.9"
    }
  },
  "nbformat": 4,
  "nbformat_minor": 0
}
