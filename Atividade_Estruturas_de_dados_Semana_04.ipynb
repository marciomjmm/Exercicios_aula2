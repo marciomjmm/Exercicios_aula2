{
  "cells": [
    {
      "cell_type": "markdown",
      "metadata": {
        "id": "v8pFWwviib2C"
      },
      "source": [
        "![Growdev](https://www.growdev.com.br/assets/images/logo_growdev.png)"
      ]
    },
    {
      "cell_type": "markdown",
      "metadata": {
        "id": "6Tkl4_HxifXZ"
      },
      "source": [
        "![Formação Engenharia de Dados](https://d335luupugsy2.cloudfront.net/cms/files/524558/1707226566/$occu5m8t1op)"
      ]
    },
    {
      "cell_type": "markdown",
      "metadata": {
        "id": "ty7Bzyl1i9bN"
      },
      "source": [
        "Este material tem como objetivo incentivar a prática dos conteúdos estudados até o momento, e a pesquisa. Tenha em consideração que o exercício foi pensado para incentivar a prática dos conteúdos estudados até então, porém aprender a pesquisar faz parte do processo de aprendizagem.\n",
        "\n",
        "Fique tranquilo, faça os exercícios com calma, e boa prática!\n"
      ]
    },
    {
      "cell_type": "markdown",
      "metadata": {
        "id": "DU5-yCQwjx3V"
      },
      "source": [
        "#Orientações:\n",
        "\n",
        " - Faça uma copia deste arquivo\n",
        " - Após concluir os exercicios, suba seu exercicio para o GitHub e compartilhe o link no **google** Classroom\n"
      ]
    },
    {
      "cell_type": "markdown",
      "metadata": {
        "id": "EzT810tnlmfE"
      },
      "source": [
        "#Exercícios"
      ]
    },
    {
      "cell_type": "markdown",
      "metadata": {
        "id": "rDqBAimhSq_C"
      },
      "source": [
        "#Listas"
      ]
    },
    {
      "cell_type": "markdown",
      "metadata": {
        "id": "GoGkz2n-SudC"
      },
      "source": [
        "Para esse exercicio você tera alguns desafios, separei eles em partes, vamos lá?\n",
        "\n",
        "1 - Crie uma lista com 100 números inteiros.\n",
        "- Pode ser uma sequência, ou caso queira se desafiar faça de números aleatorios.\n",
        "- Os dados não devem ser inseridos manualmente, utilize de um laço de repetição para adicionar os elementos a Lista.\n"
      ]
    },
    {
      "cell_type": "code",
      "execution_count": 1,
      "metadata": {
        "id": "lLYBJr0KSuJW"
      },
      "outputs": [
        {
          "name": "stdout",
          "output_type": "stream",
          "text": [
            "Lista de 100 números inteiros:\n",
            "[1, 2, 3, 4, 5, 6, 7, 8, 9, 10, 11, 12, 13, 14, 15, 16, 17, 18, 19, 20, 21, 22, 23, 24, 25, 26, 27, 28, 29, 30, 31, 32, 33, 34, 35, 36, 37, 38, 39, 40, 41, 42, 43, 44, 45, 46, 47, 48, 49, 50, 51, 52, 53, 54, 55, 56, 57, 58, 59, 60, 61, 62, 63, 64, 65, 66, 67, 68, 69, 70, 71, 72, 73, 74, 75, 76, 77, 78, 79, 80, 81, 82, 83, 84, 85, 86, 87, 88, 89, 90, 91, 92, 93, 94, 95, 96, 97, 98, 99, 100]\n"
          ]
        }
      ],
      "source": [
        "lista_numeros = list(range(1, 101))\n",
        "\n",
        "# Exibindo a lista gerada\n",
        "print(\"Lista de 100 números inteiros:\")\n",
        "print(lista_numeros)"
      ]
    },
    {
      "cell_type": "markdown",
      "metadata": {
        "id": "LQ0SVqxyVTD5"
      },
      "source": [
        "2 - Calcule e exiba a soma de todos os números da lista."
      ]
    },
    {
      "cell_type": "code",
      "execution_count": 2,
      "metadata": {
        "id": "6HP8yU1bVS0F"
      },
      "outputs": [
        {
          "name": "stdout",
          "output_type": "stream",
          "text": [
            "Soma de todos os números na lista:\n",
            "5050\n"
          ]
        }
      ],
      "source": [
        "lista_numeros = list(range(1, 101))\n",
        "\n",
        "# Calculando a soma de todos os números na lista\n",
        "soma = sum(lista_numeros)\n",
        "\n",
        "# Exibindo a soma\n",
        "print(\"Soma de todos os números na lista:\")\n",
        "print(soma)"
      ]
    },
    {
      "cell_type": "markdown",
      "metadata": {
        "id": "HYQGLklTTPMx"
      },
      "source": [
        "3 - Exiba o maior e o menor número da lista."
      ]
    },
    {
      "cell_type": "code",
      "execution_count": 3,
      "metadata": {
        "id": "q_UZx7EETT6S"
      },
      "outputs": [
        {
          "name": "stdout",
          "output_type": "stream",
          "text": [
            "Maior número da lista: 100\n",
            "Menor número da lista: 1\n"
          ]
        }
      ],
      "source": [
        "lista_numeros = list(range(1, 101))\n",
        "\n",
        "# Inicializando variáveis para armazenar o maior e o menor número\n",
        "maior_numero = lista_numeros[0]\n",
        "menor_numero = lista_numeros[0]\n",
        "\n",
        "# Iterando pela lista para encontrar o maior e o menor número\n",
        "for numero in lista_numeros:\n",
        "    if numero > maior_numero:\n",
        "        maior_numero = numero\n",
        "    elif numero < menor_numero:\n",
        "        menor_numero = numero\n",
        "\n",
        "# Exibindo o maior e o menor número da lista\n",
        "print(\"Maior número da lista:\", maior_numero)\n",
        "print(\"Menor número da lista:\", menor_numero)"
      ]
    },
    {
      "cell_type": "markdown",
      "metadata": {
        "id": "1iU6ZtRhVN9i"
      },
      "source": [
        "4 - Pesquise se o número 77 esta presente na lista e exiba:\n",
        "- Quantas vezes esse número aparece na lista\n",
        "- Se aparece em qual ou quais posições(Indice)."
      ]
    },
    {
      "cell_type": "code",
      "execution_count": 4,
      "metadata": {
        "id": "OGVH4AoGWU2R"
      },
      "outputs": [
        {
          "name": "stdout",
          "output_type": "stream",
          "text": [
            "O número 77 aparece 1 vezes na lista.\n",
            "O número 77 aparece nas posições: [76]\n"
          ]
        }
      ],
      "source": [
        "lista_numeros = list(range(1, 101))\n",
        "\n",
        "# Verificando se o número 77 está presente na lista\n",
        "if 77 in lista_numeros:\n",
        "    # Contando quantas vezes o número 77 aparece na lista\n",
        "    vezes_aparece = lista_numeros.count(77)\n",
        "    print(\"O número 77 aparece\", vezes_aparece, \"vezes na lista.\")\n",
        "\n",
        "    # Encontrando as posições (índices) em que o número 77 aparece na lista\n",
        "    posicoes = [indice for indice, numero in enumerate(lista_numeros) if numero == 77]\n",
        "    print(\"O número 77 aparece nas posições:\", posicoes)\n",
        "else:\n",
        "    print(\"O número 77 não está presente na lista.\")"
      ]
    },
    {
      "cell_type": "markdown",
      "metadata": {
        "id": "jrwycUMvWVSu"
      },
      "source": [
        "5 - Ordene a lista de forma descendente e exiba."
      ]
    },
    {
      "cell_type": "code",
      "execution_count": 5,
      "metadata": {
        "id": "RvRpLp87e5CB"
      },
      "outputs": [
        {
          "name": "stdout",
          "output_type": "stream",
          "text": [
            "Lista ordenada em ordem descendente:\n",
            "[100, 99, 98, 97, 96, 95, 94, 93, 92, 91, 90, 89, 88, 87, 86, 85, 84, 83, 82, 81, 80, 79, 78, 77, 76, 75, 74, 73, 72, 71, 70, 69, 68, 67, 66, 65, 64, 63, 62, 61, 60, 59, 58, 57, 56, 55, 54, 53, 52, 51, 50, 49, 48, 47, 46, 45, 44, 43, 42, 41, 40, 39, 38, 37, 36, 35, 34, 33, 32, 31, 30, 29, 28, 27, 26, 25, 24, 23, 22, 21, 20, 19, 18, 17, 16, 15, 14, 13, 12, 11, 10, 9, 8, 7, 6, 5, 4, 3, 2, 1]\n"
          ]
        }
      ],
      "source": [
        "lista_numeros = list(range(1, 101))\n",
        "\n",
        "# Ordenando a lista em ordem descendente\n",
        "lista_numeros.sort(reverse=True)\n",
        "\n",
        "# Exibindo a lista ordenada em ordem descendente\n",
        "print(\"Lista ordenada em ordem descendente:\")\n",
        "print(lista_numeros)"
      ]
    },
    {
      "cell_type": "markdown",
      "metadata": {
        "id": "Be68CsC2OftE"
      },
      "source": [
        "## Tuplas:"
      ]
    },
    {
      "cell_type": "markdown",
      "metadata": {
        "id": "SQzRrAmq1SnR"
      },
      "source": [
        "Crie uma tupla com os dias da semana e peça para o usuário digitar um número de 1 a 7. Exiba o dia correspondente."
      ]
    },
    {
      "cell_type": "code",
      "execution_count": 6,
      "metadata": {
        "id": "7BqDEfeq1TZE"
      },
      "outputs": [
        {
          "name": "stdout",
          "output_type": "stream",
          "text": [
            "O dia correspondente ao número 5 é: Quinta-feira\n"
          ]
        }
      ],
      "source": [
        "dias_semana = ('Domingo', 'Segunda-feira', 'Terça-feira', 'Quarta-feira', 'Quinta-feira', 'Sexta-feira', 'Sábado')\n",
        "\n",
        "# Pedindo para o usuário digitar um número de 1 a 7\n",
        "numero_dia = int(input(\"Digite um número de 1 a 7 para obter o dia da semana correspondente: \"))\n",
        "\n",
        "# Verificando se o número está dentro do intervalo válido\n",
        "if 1 <= numero_dia <= 7:\n",
        "    # Exibindo o dia correspondente\n",
        "    print(\"O dia correspondente ao número\", numero_dia, \"é:\", dias_semana[numero_dia - 1])\n",
        "else:\n",
        "    print(\"Número inválido! Por favor, digite um número de 1 a 7.\")"
      ]
    },
    {
      "cell_type": "markdown",
      "metadata": {
        "id": "J9LW9fru7hv6"
      },
      "source": [
        "Crie duas tuplas com números inteiros e crie uma terceira tupla com a concatenação das duas."
      ]
    },
    {
      "cell_type": "code",
      "execution_count": 7,
      "metadata": {
        "id": "J2pBsS-f7idJ"
      },
      "outputs": [
        {
          "name": "stdout",
          "output_type": "stream",
          "text": [
            "Tupla concatenada: (1, 2, 3, 4, 5, 6, 7, 8)\n"
          ]
        }
      ],
      "source": [
        "tupla1 = (1, 2, 3, 4)\n",
        "tupla2 = (5, 6, 7, 8)\n",
        "\n",
        "# Concatenando as duas tuplas para criar a terceira tupla\n",
        "tupla_concatenada = tupla1 + tupla2\n",
        "\n",
        "# Exibindo a terceira tupla resultante\n",
        "print(\"Tupla concatenada:\", tupla_concatenada)"
      ]
    },
    {
      "cell_type": "markdown",
      "metadata": {
        "id": "ytDz_SXB7o-8"
      },
      "source": [
        " Crie uma tupla com alguns elementos e remova um elemento específico."
      ]
    },
    {
      "cell_type": "code",
      "execution_count": 8,
      "metadata": {
        "id": "QvIAx6HP7pbh"
      },
      "outputs": [
        {
          "name": "stdout",
          "output_type": "stream",
          "text": [
            "Tupla modificada: (1, 2, 4, 5)\n"
          ]
        }
      ],
      "source": [
        "minha_tupla = (1, 2, 3, 4, 5)\n",
        "\n",
        "# Convertendo a tupla para uma lista\n",
        "lista_elementos = list(minha_tupla)\n",
        "\n",
        "# Removendo um elemento específico da lista\n",
        "elemento_remover = 3\n",
        "if elemento_remover in lista_elementos:\n",
        "    lista_elementos.remove(elemento_remover)\n",
        "else:\n",
        "    print(\"Elemento\", elemento_remover, \"não encontrado na tupla.\")\n",
        "\n",
        "# Convertendo a lista de volta para uma tupla\n",
        "minha_tupla_modificada = tuple(lista_elementos)\n",
        "\n",
        "# Exibindo a tupla modificada\n",
        "print(\"Tupla modificada:\", minha_tupla_modificada)"
      ]
    },
    {
      "cell_type": "markdown",
      "metadata": {
        "id": "v_JM0Has1pPL"
      },
      "source": [
        "#Sets"
      ]
    },
    {
      "cell_type": "markdown",
      "metadata": {
        "id": "Urrv-Y291roJ"
      },
      "source": [
        "Crie dois sets com cores diferentes e exiba na tela a união dos dois sets."
      ]
    },
    {
      "cell_type": "code",
      "execution_count": 9,
      "metadata": {
        "id": "FM4S-PEa1zSW"
      },
      "outputs": [
        {
          "name": "stdout",
          "output_type": "stream",
          "text": [
            "União dos dois sets de cores: {'vermelho', 'roxo', 'azul', 'amarelo', 'verde'}\n"
          ]
        }
      ],
      "source": [
        "set_cores1 = {\"vermelho\", \"azul\", \"verde\"}\n",
        "set_cores2 = {\"amarelo\", \"azul\", \"roxo\"}\n",
        "\n",
        "# Calculando a união dos dois sets\n",
        "uniao_cores = set_cores1.union(set_cores2)\n",
        "\n",
        "# Exibindo a união dos dois sets\n",
        "print(\"União dos dois sets de cores:\", uniao_cores)"
      ]
    },
    {
      "cell_type": "markdown",
      "metadata": {
        "id": "0q0tG4eG1zkL"
      },
      "source": [
        "Crie uma lista com alguns números repetidos. Converta essa lista em um set para remover as duplicatas e exiba o resultado."
      ]
    },
    {
      "cell_type": "code",
      "execution_count": 10,
      "metadata": {
        "id": "j4okoTWR2I_R"
      },
      "outputs": [
        {
          "name": "stdout",
          "output_type": "stream",
          "text": [
            "Conjunto sem duplicatas: {1, 2, 3, 4, 5, 6, 7, 8, 9}\n"
          ]
        }
      ],
      "source": [
        "# Criando uma lista com alguns números repetidos\n",
        "lista_numeros = [1, 2, 3, 4, 4, 5, 6, 6, 7, 8, 8, 9]\n",
        "\n",
        "# Convertendo a lista para um conjunto para remover as duplicatas\n",
        "conjunto_numeros = set(lista_numeros)\n",
        "\n",
        "# Exibindo o conjunto resultante\n",
        "print(\"Conjunto sem duplicatas:\", conjunto_numeros)"
      ]
    },
    {
      "cell_type": "markdown",
      "metadata": {
        "id": "4MCBgr-k1fvU"
      },
      "source": [
        "#Dicionários:"
      ]
    },
    {
      "cell_type": "markdown",
      "metadata": {
        "id": "0A-DeyIMPh4g"
      },
      "source": [
        " Crie um dicionário com os nomes de algumas frutas e suas respectivas cores. Exiba na tela somente as frutas que são vermelhas."
      ]
    },
    {
      "cell_type": "code",
      "execution_count": 11,
      "metadata": {
        "id": "7jlD2DV4Pjom"
      },
      "outputs": [
        {
          "name": "stdout",
          "output_type": "stream",
          "text": [
            "Frutas vermelhas:\n",
            "maçã\n",
            "morango\n"
          ]
        }
      ],
      "source": [
        "# Criando um dicionário com os nomes das frutas e suas respectivas cores\n",
        "frutas_cores = {\n",
        "    \"maçã\": \"vermelho\",\n",
        "    \"banana\": \"amarelo\",\n",
        "    \"morango\": \"vermelho\",\n",
        "    \"uva\": \"roxo\",\n",
        "    \"laranja\": \"laranja\"\n",
        "}\n",
        "\n",
        "# Exibindo apenas as frutas que são vermelhas\n",
        "print(\"Frutas vermelhas:\")\n",
        "for fruta, cor in frutas_cores.items():\n",
        "    if cor == \"vermelho\":\n",
        "        print(fruta)\n"
      ]
    },
    {
      "cell_type": "markdown",
      "metadata": {
        "id": "q-XV14A-PmSa"
      },
      "source": [
        "Crie um dicionário com o nome e a idade de três pessoas. Busque por  um nome e exiba a idade correspondente."
      ]
    },
    {
      "cell_type": "code",
      "execution_count": 12,
      "metadata": {
        "id": "8rPH-lzG2gvh"
      },
      "outputs": [
        {
          "name": "stdout",
          "output_type": "stream",
          "text": [
            "A idade de Maria é: 25\n"
          ]
        }
      ],
      "source": [
        "pessoas = {\n",
        "    \"João\": 30,\n",
        "    \"Maria\": 25,\n",
        "    \"Pedro\": 35\n",
        "}\n",
        "\n",
        "# Buscando por um nome\n",
        "nome_busca = input(\"Digite o nome da pessoa para buscar sua idade: \")\n",
        "\n",
        "# Verificando se o nome está presente no dicionário\n",
        "if nome_busca in pessoas:\n",
        "    # Exibindo a idade correspondente ao nome buscado\n",
        "    print(\"A idade de\", nome_busca, \"é:\", pessoas[nome_busca])\n",
        "else:\n",
        "    print(\"Nome não encontrado.\")"
      ]
    },
    {
      "cell_type": "markdown",
      "metadata": {
        "id": "yEn6q_MP5SdW"
      },
      "source": [
        "Crie um dicionário com os nomes e idades de algumas pessoas. Peça para o usuário digitar um nome e sua nova idade, e atualize o dicionário com essa informação."
      ]
    },
    {
      "cell_type": "code",
      "execution_count": 13,
      "metadata": {
        "id": "H-RHnfMm5TcR"
      },
      "outputs": [
        {
          "name": "stdout",
          "output_type": "stream",
          "text": [
            "Dicionário atualizado: {'João': 30, 'Maria': 25, 'Pedro': 37}\n"
          ]
        }
      ],
      "source": [
        "pessoas = {\n",
        "    \"João\": 30,\n",
        "    \"Maria\": 25,\n",
        "    \"Pedro\": 35\n",
        "}\n",
        "\n",
        "nome = input(\"Digite o nome da pessoa: \")\n",
        "nova_idade = int(input(\"Digite a nova idade para {}: \".format(nome)))\n",
        "\n",
        "# Atualizando o dicionário com a nova idade\n",
        "pessoas[nome] = nova_idade\n",
        "\n",
        "# Exibindo o dicionário atualizado\n",
        "print(\"Dicionário atualizado:\", pessoas)"
      ]
    },
    {
      "cell_type": "markdown",
      "metadata": {
        "id": "Jeelh1Xw2hab"
      },
      "source": [
        "Desafio Dicionários:\n",
        "\n",
        "Busque o código desenvolvido para o exercicio abaixo e altere o algoritmo para:\n",
        "\n",
        " - Salvar o resultado da eleição em um dícionário.\n",
        "\n",
        "\n",
        "Exemplo de saida do dicionario: {\"Candidato 1\": 2, \"Candidato 2\": 2, \"Voto Nulo\": 0, \"Voto Branco\": 1}\n",
        "\n",
        "\n",
        "Este exercicio foi realizado na lista da semana passada, exercicio de número 4:"
      ]
    },
    {
      "cell_type": "markdown",
      "metadata": {
        "id": "cDnoQXk83e5B"
      },
      "source": [
        "\n",
        "\"Em uma eleição presidencial existem dois candidatos. Os votos são informados através de códigos. Os dados utilizados para a contagem dos votos obedecem à seguinte codificação:\n",
        "\n",
        "1,2 = voto para os respectivos candidatos\n",
        "\n",
        "3 = voto nulo\n",
        "\n",
        "4 = voto em branco;\n",
        "\n",
        "Elabore um programa que leia o código de votação de 5 eleitores. Calcule e escreva: total de votos para cada candidato total de votos nulos total de votos em branco\""
      ]
    },
    {
      "cell_type": "code",
      "execution_count": null,
      "metadata": {
        "id": "CRlV5NE82kpE"
      },
      "outputs": [],
      "source": [
        "voto_1 = 0\n",
        "voto_2 = 0\n",
        "voto_nulo = 0\n",
        "voto_branco = 0\n",
        "\n",
        "for i in range(5):\n",
        "    voto = int(input('Insira seu voto: '))\n",
        "    if voto == 1:\n",
        "        voto_1 += 1\n",
        "    elif voto == 2:\n",
        "        voto_2 += 1\n",
        "    elif voto == 3:\n",
        "        voto_nulo +=1\n",
        "    else:\n",
        "        voto_branco +=1\n",
        "\n",
        "print('O total de votos para o Candidato 1 é de:', voto_1,\n",
        "      '\\nO total de votos para o candidato 2 é de:',voto_2,\n",
        "      '\\nTotal de votos nulos:', voto_nulo, \n",
        "      '\\nE o total de votos em brancos é', voto_branco) "
      ]
    },
    {
      "cell_type": "markdown",
      "metadata": {
        "id": "ffEKF4Kx5eQu"
      },
      "source": [
        "#Listas por Compreensão:"
      ]
    },
    {
      "cell_type": "markdown",
      "metadata": {
        "id": "IrQvRhQM5oj6"
      },
      "source": [
        "Crie uma lista com os números Impares de 1 a 20 utilizando listas por compreensão."
      ]
    },
    {
      "cell_type": "code",
      "execution_count": 14,
      "metadata": {
        "id": "lqgX2B6x5fLc"
      },
      "outputs": [
        {
          "name": "stdout",
          "output_type": "stream",
          "text": [
            "Números ímpares de 1 a 20: [1, 3, 5, 7, 9, 11, 13, 15, 17, 19]\n"
          ]
        }
      ],
      "source": [
        "numeros_impares = [num for num in range(1, 21) if num % 2 != 0]\n",
        "\n",
        "# Exibindo a lista de números ímpares\n",
        "print(\"Números ímpares de 1 a 20:\", numeros_impares)"
      ]
    },
    {
      "cell_type": "markdown",
      "metadata": {
        "id": "R2DKj08Z5tqJ"
      },
      "source": [
        "Crie uma lista com as letras da frase \"Sou estudante de dados\", utilizando listas por compreensão."
      ]
    },
    {
      "cell_type": "code",
      "execution_count": 15,
      "metadata": {},
      "outputs": [
        {
          "name": "stdout",
          "output_type": "stream",
          "text": [
            "Letras da frase: ['S', 'o', 'u', 'e', 's', 't', 'u', 'd', 'a', 'n', 't', 'e', 'd', 'e', 'd', 'a', 'd', 'o', 's']\n"
          ]
        }
      ],
      "source": [
        "frase = \"Sou estudante de dados\"\n",
        "\n",
        "# Lista com as letras da frase utilizando listas por compreensão\n",
        "letras_frase = [letra for letra in frase if letra != ' ']\n",
        "\n",
        "# Exibindo a lista de letras da frase\n",
        "print(\"Letras da frase:\", letras_frase)"
      ]
    }
  ],
  "metadata": {
    "colab": {
      "provenance": []
    },
    "kernelspec": {
      "display_name": "Python 3",
      "name": "python3"
    },
    "language_info": {
      "codemirror_mode": {
        "name": "ipython",
        "version": 3
      },
      "file_extension": ".py",
      "mimetype": "text/x-python",
      "name": "python",
      "nbconvert_exporter": "python",
      "pygments_lexer": "ipython3",
      "version": "3.11.7"
    }
  },
  "nbformat": 4,
  "nbformat_minor": 0
}
