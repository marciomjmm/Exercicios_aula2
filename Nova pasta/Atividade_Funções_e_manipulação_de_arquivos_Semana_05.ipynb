{
  "cells": [
    {
      "cell_type": "markdown",
      "metadata": {
        "id": "v8pFWwviib2C"
      },
      "source": [
        "![Growdev](https://www.growdev.com.br/assets/images/logo_growdev.png)"
      ]
    },
    {
      "cell_type": "markdown",
      "metadata": {
        "id": "6Tkl4_HxifXZ"
      },
      "source": [
        "![Formação Engenharia de Dados](https://d335luupugsy2.cloudfront.net/cms/files/524558/1707226566/$occu5m8t1op)"
      ]
    },
    {
      "cell_type": "markdown",
      "metadata": {
        "id": "ty7Bzyl1i9bN"
      },
      "source": [
        "Este material tem como objetivo incentivar a prática dos conteúdos estudados até o momento, e a pesquisa. Tenha em consideração que o exercício foi pensado para incentivar a prática dos conteúdos estudados até então, porém aprender a pesquisar faz parte do processo de aprendizagem.\n",
        "\n",
        "Fique tranquilo, faça os exercícios com calma, e boa prática!\n"
      ]
    },
    {
      "cell_type": "markdown",
      "metadata": {
        "id": "DU5-yCQwjx3V"
      },
      "source": [
        "#Orientações:\n",
        "\n",
        " - Faça uma copia deste arquivo\n",
        " - Após concluir os exercicios, suba seu exercicio para o GitHub e compartilhe o link no **google** Classroom\n"
      ]
    },
    {
      "cell_type": "markdown",
      "metadata": {
        "id": "EzT810tnlmfE"
      },
      "source": [
        "#Exercícios"
      ]
    },
    {
      "cell_type": "markdown",
      "metadata": {
        "id": "rDqBAimhSq_C"
      },
      "source": [
        "#Funções"
      ]
    },
    {
      "cell_type": "markdown",
      "metadata": {
        "id": "AkBqdNST8bCY"
      },
      "source": [
        "Escreva uma função chamada soma que recebe dois números como parâmetros e retorna a soma deles"
      ]
    },
    {
      "cell_type": "code",
      "execution_count": null,
      "metadata": {
        "id": "J427Pi2p8THC"
      },
      "outputs": [],
      "source": [
        "def sum(num1, num2):\n",
        "    return num1 + num2\n",
        "\n",
        "num1 = int(input('Informe o primeiro valor: '))\n",
        "num2 = int(input('Informe o segundo valor: '))\n",
        "\n",
        "print(f'A soma dos dois valores é %d'%sum(num1, num2))"
      ]
    },
    {
      "cell_type": "markdown",
      "metadata": {
        "id": "NAa3MBAM830W"
      },
      "source": [
        "Escreva uma função chamada verificar_paridade que recebe um número como parâmetro e retorna True se for par e False se for ímpar."
      ]
    },
    {
      "cell_type": "code",
      "execution_count": null,
      "metadata": {
        "id": "CRlV5NE82kpE"
      },
      "outputs": [],
      "source": [
        "def paridade_num(num):\n",
        "    if num % 2 == 0:\n",
        "        result = True\n",
        "    else:\n",
        "        result = False\n",
        "    return result\n",
        "\n",
        "num = int(input('Informe um numero: '))\n",
        "\n",
        "print(f'O numero {num} é par? {paridade_num(num)}')"
      ]
    },
    {
      "cell_type": "markdown",
      "metadata": {
        "id": "S7Rh1p4N8_dp"
      },
      "source": [
        "Escreva uma função chamada verificar_palindromo que recebe uma string como parâmetro e retorna True se for um palíndromo (uma palavra que é igual se lida da esquerda para a direita e vice-versa) e False caso contrário."
      ]
    },
    {
      "cell_type": "code",
      "execution_count": null,
      "metadata": {
        "id": "jY3rGEWc9Gb5"
      },
      "outputs": [],
      "source": [
        "def palindromo(pala):\n",
        "    if pala == pala[::-1]:\n",
        "        return True\n",
        "    return False\n",
        "\n",
        "\n",
        "palavra = input('Digite uma palavra: ').lower().strip().replace(' ', '')\n",
        "\n",
        "print(f'A palavra {palavra}, é um palindromo? {palindromo(palavra)}')"
      ]
    },
    {
      "cell_type": "markdown",
      "metadata": {
        "id": "suLU217H9G51"
      },
      "source": [
        "##Desafio listas e funções:"
      ]
    },
    {
      "cell_type": "markdown",
      "metadata": {
        "id": "zv3Edx_T-TF5"
      },
      "source": [
        "Crie uma função que representa o jogo batalha naval.\n",
        "\n",
        "Dentro da função crie uma estrutura bidimensional utilizando listas com sublistas para representar um tabuleiro (1 lista com 20 elementos e cada elemento é uma lista de 20 elementos, tabuleiro 20x20). Cada posição irá armazenar 1 valor numérico que significa:\n",
        "- 0 - Água\n",
        "- 1 - Navio\n",
        "\n",
        "Para cada posição escolha esses valores aleatoriamente, respeitando a regra de que não podem existir mais de 20 navios no tabuleiro.\n",
        "\n",
        "Após os valores serem distribuídos, o programa deve pedir ao usuário uma posição do tabuleiro e informar se ele acertou um navio ou água e repetir o procedimento até que o usuário derrote todos os navios ou chegue ao limite de 35 tentativas.\n",
        "\n"
      ]
    },
    {
      "cell_type": "code",
      "execution_count": null,
      "metadata": {
        "id": "BhHWwg54-H1j"
      },
      "outputs": [],
      "source": [
        "import random\n",
        "\n",
        "def inicializar_tabuleiro(tamanho, max_navios):\n",
        "    tabuleiro = [[0 for _ in range(tamanho)] for _ in range(tamanho)]\n",
        "    navios_colocados = 0\n",
        "\n",
        "    while navios_colocados < max_navios:\n",
        "        x = random.randint(0, tamanho - 1)\n",
        "        y = random.randint(0, tamanho - 1)\n",
        "        if tabuleiro[x][y] == 0:\n",
        "            tabuleiro[x][y] = 1\n",
        "            navios_colocados += 1\n",
        "\n",
        "    return tabuleiro\n",
        "\n",
        "\n",
        "def imprimir_tabuleiro(tabuleiro):\n",
        "    for linha in tabuleiro:\n",
        "        print(' '.join(map(str, linha)))\n",
        "\n",
        "\n",
        "def jogo_batalha_naval():\n",
        "    tamanho = 20\n",
        "    max_navios = 20\n",
        "    tentativas_maximas = 5\n",
        "    tentativas = 0\n",
        "    navio_derrotado = 0\n",
        "    \n",
        "\n",
        "    tabuleiro = inicializar_tabuleiro(tamanho, max_navios)\n",
        "\n",
        "    while tentativas < tentativas_maximas and navio_derrotado < max_navios:\n",
        "        print(f\"Tentativa {tentativas + 1} de {tentativas_maximas}\")\n",
        "        try:\n",
        "            x = int(input(\"Digite a linha (0-19): \"))\n",
        "            y = int(input(\"Digite a coluna (0-19): \"))\n",
        "\n",
        "            if 0 <= x < tamanho and 0 <= y < tamanho:\n",
        "                if tabuleiro[x][y] == 1:\n",
        "                    print(\"Acertou um navio!\")\n",
        "                    navio_derrotado += 1\n",
        "                    tabuleiro[x][y] = -1  # Marcando a posição acertada para não contar novamente\n",
        "                elif tabuleiro[x][y] == 0:\n",
        "                    print(\"Água!\")\n",
        "                    tabuleiro[x][y] = -1  # Marcando a posição para não ser escolhida novamente\n",
        "                else:\n",
        "                    print(\"Você já escolheu esta posição antes. Tente novamente.\")\n",
        "                tentativas += 1\n",
        "            else:\n",
        "                print(\"Posição inválida. Tente novamente.\")\n",
        "        except ValueError:\n",
        "            print(\"Entrada inválida. Digite números inteiros entre 0 e 19.\")\n",
        "\n",
        "        if navio_derrotado == max_navios:\n",
        "            print(\"Parabéns! Você derrotou todos os navios!\")\n",
        "        elif tentativas == tentativas_maximas:\n",
        "            print(\"Você atingiu o número máximo de tentativas. Fim de jogo.\")\n",
        "\n",
        "if __name__ == \"__main__\":\n",
        "    jogo_batalha_naval()"
      ]
    },
    {
      "cell_type": "markdown",
      "metadata": {
        "id": "WUXJN6Dg_GET"
      },
      "source": [
        "Modifique o programa anterior para exibir as seguintes estatísticas.\n",
        "- Acertos em água\n",
        "- Acertos em Navios\n",
        "- Porcentagem de acertos em água\n",
        "- Porcentagem de acertos em Navios\n",
        "- Acertos ininterruptos (maior quantidade de acertos em sequência)"
      ]
    },
    {
      "cell_type": "code",
      "execution_count": null,
      "metadata": {
        "id": "N5itlDvd_Hbi"
      },
      "outputs": [],
      "source": [
        "import random\n",
        "\n",
        "def inicializar_tabuleiro(tamanho, max_navios):\n",
        "    tabuleiro = [[0 for _ in range(tamanho)] for _ in range(tamanho)]\n",
        "    navios_colocados = 0\n",
        "\n",
        "    while navios_colocados < max_navios:\n",
        "        x = random.randint(0, tamanho - 1)\n",
        "        y = random.randint(0, tamanho - 1)\n",
        "        if tabuleiro[x][y] == 0:\n",
        "            tabuleiro[x][y] = 1\n",
        "            navios_colocados += 1\n",
        "\n",
        "    return tabuleiro\n",
        "\n",
        "\n",
        "def imprimir_tabuleiro(tabuleiro):\n",
        "    for linha in tabuleiro:\n",
        "        print(' '.join(map(str, linha)))\n",
        "\n",
        "\n",
        "def jogo_batalha_naval():\n",
        "    tamanho = 20\n",
        "    max_navios = 20\n",
        "    tentativas_maximas = 5\n",
        "    tentativas = 0\n",
        "    navio_derrotado = 0\n",
        "\n",
        "    acerto_agua = 0\n",
        "    acerto_navio = 0\n",
        "\n",
        "    acertos_ininterrupto = 0\n",
        "\n",
        "\n",
        "    tabuleiro = inicializar_tabuleiro(tamanho, max_navios)\n",
        "\n",
        "    while tentativas < tentativas_maximas and navio_derrotado < max_navios:\n",
        "        print(f\"Tentativa {tentativas + 1} de {tentativas_maximas}\")\n",
        "        try:\n",
        "            x = int(input(\"Digite a linha (0-19): \"))\n",
        "            y = int(input(\"Digite a coluna (0-19): \"))\n",
        "\n",
        "            if 0 <= x < tamanho and 0 <= y < tamanho:\n",
        "                if tabuleiro[x][y] == 1:\n",
        "                    print(\"Acertou um navio!\")\n",
        "                    navio_derrotado += 1\n",
        "                    acerto_navio += 1\n",
        "                    acertos_ininterrupto += 1\n",
        "                    tabuleiro[x][y] = -1  # Marcando a posição acertada para não contar novamente\n",
        "                elif tabuleiro[x][y] == 0:\n",
        "                    print(\"Água!\")\n",
        "                    tabuleiro[x][y] = -1  # Marcando a posição para não ser escolhida novamente\n",
        "                    acerto_agua += 1\n",
        "                    acertos_ininterrupto += 1\n",
        "                else:\n",
        "                    print(\"Você já escolheu esta posição antes. Tente novamente.\")\n",
        "                tentativas += 1\n",
        "            else:\n",
        "                print(\"Posição inválida. Tente novamente.\")\n",
        "        except ValueError:\n",
        "            print(\"Entrada inválida. Digite números inteiros entre 0 e 19.\")\n",
        "\n",
        "        if navio_derrotado == max_navios:\n",
        "            print(\"Parabéns! Você derrotou todos os navios!\")\n",
        "            print(f'Acertos em Água {acerto_agua}')\n",
        "            print(f'Porcentagem de acertos em água {(acerto_agua/tentativas)*100}%')\n",
        "            print(f'Acertos em Navio {acerto_navio}')\n",
        "            print(f'Porcentagem de acertos em Navios {(acerto_navio/tentativas)*100}%')\n",
        "            print(f'Acertos em Sequência {acertos_ininterrupto}')\n",
        "        elif tentativas == tentativas_maximas:\n",
        "            print(\"Você atingiu o número máximo de tentativas. Fim de jogo.\")\n",
        "            print(f'Acertos em Água {acerto_agua}')\n",
        "            print(f'Porcentagem de acertos em água {(acerto_agua/tentativas)*100}%')\n",
        "            print(f'Acertos em Navio {acerto_navio}')\n",
        "            print(f'Porcentagem de acertos em Navios {(acerto_navio/tentativas)*100}%')\n",
        "            print(f'Acertos em Sequência {acertos_ininterrupto}')\n",
        "\n",
        "if __name__ == \"__main__\":\n",
        "    jogo_batalha_naval()"
      ]
    },
    {
      "cell_type": "markdown",
      "metadata": {
        "id": "ffEKF4Kx5eQu"
      },
      "source": [
        "#Manipulação de arquivos: Conteudo será trabalhado na aula do"
      ]
    },
    {
      "cell_type": "markdown",
      "metadata": {
        "id": "IrQvRhQM5oj6"
      },
      "source": [
        "UUtilize o arquivo ‘compras.csv’ como base para resolver os seguintes exercícios.  disponivel em: https://drive.google.com/file/d/1cqqr7kWuBYYJxJ8W_-KHmcZHs6sfV_is/view"
      ]
    },
    {
      "cell_type": "code",
      "execution_count": null,
      "metadata": {
        "id": "Pwpe1cTdpeeu"
      },
      "outputs": [],
      "source": []
    },
    {
      "cell_type": "markdown",
      "metadata": {
        "id": "J8g6sYrl3Xjg"
      },
      "source": [
        "Utilize as seguintes faixas etárias nos exercícios em que for necessário.\n",
        "- Jovens, 18 a 25 anos\n",
        "- Adultos, 26 a 59 anos\n",
        "- Idosos, igual ou maior que 60 anos\n"
      ]
    },
    {
      "cell_type": "markdown",
      "metadata": {
        "id": "ZJpTRgx3XdQd"
      },
      "source": [
        "Func lista"
      ]
    },
    {
      "cell_type": "code",
      "execution_count": 2,
      "metadata": {},
      "outputs": [],
      "source": [
        "import os"
      ]
    },
    {
      "cell_type": "code",
      "execution_count": 3,
      "metadata": {
        "id": "Jh8PRzZpUaIZ"
      },
      "outputs": [
        {
          "name": "stdout",
          "output_type": "stream",
          "text": [
            "['Samuel', 'Ribeiro', '38', 'M', '7381', '2007', 'credito']\n"
          ]
        }
      ],
      "source": [
        "import csv\n",
        "\n",
        "def ler_csv_para_lista(caminho_arquivo):\n",
        "    dados = []\n",
        "    with open(caminho_arquivo, newline='', encoding='utf-8') as csvfile:\n",
        "        leitor = csv.reader(csvfile)\n",
        "        cabecalho = next(leitor)\n",
        "        for linha in leitor:\n",
        "            dados.append(linha)\n",
        "    return cabecalho, dados\n",
        "print(linha)"
      ]
    },
    {
      "cell_type": "code",
      "execution_count": 13,
      "metadata": {
        "id": "b1l4pxW4Ubwe"
      },
      "outputs": [],
      "source": [
        "cabecalho, dados = ler_csv_para_lista(caminho_arquivo)"
      ]
    },
    {
      "cell_type": "markdown",
      "metadata": {
        "id": "51LKHrRRXfhF"
      },
      "source": [
        "func dic"
      ]
    },
    {
      "cell_type": "code",
      "execution_count": 32,
      "metadata": {
        "id": "EdtiIwqKVjtQ"
      },
      "outputs": [],
      "source": [
        "import csv\n",
        "\n",
        "def ler_csv_para_dicionario(caminho_arquivo):\n",
        "    dados = {}\n",
        "    with open(caminho_arquivo, newline='', encoding='utf-8') as csvfile:\n",
        "        leitor = csv.reader(arquivo)\n",
        "        cabecalho = next(leitor)  # Lê a linha de cabeçalho\n",
        "\n",
        "        for i, linha in enumerate(leitor):\n",
        "            individuo = {cabecalho[j]: linha[j] for j in range(len(cabecalho))}\n",
        "            dados[i] = individuo\n",
        "\n",
        "    return dados"
      ]
    },
    {
      "cell_type": "code",
      "execution_count": 17,
      "metadata": {
        "id": "5_wCLU4DVlds"
      },
      "outputs": [],
      "source": [
        "dados_dicionario = ler_csv_para_dicionario('c:\\\\Users\\\\marci\\\\Desktop\\\\Nova pasta\\\\compras.csv')"
      ]
    },
    {
      "cell_type": "code",
      "execution_count": 5,
      "metadata": {
        "id": "Ink56mcQVpNS"
      },
      "outputs": [],
      "source": [
        "import pprint"
      ]
    },
    {
      "cell_type": "markdown",
      "metadata": {
        "id": "apGpARF-3nW9"
      },
      "source": [
        "Procure quem foi a pessoa que mais gastou?"
      ]
    },
    {
      "cell_type": "code",
      "execution_count": 28,
      "metadata": {},
      "outputs": [
        {
          "name": "stdout",
          "output_type": "stream",
          "text": [
            "A pessoa que mais gastou foi Theo Ribeiro, com um gasto total de 9984.00.\n"
          ]
        }
      ],
      "source": [
        "import csv\n",
        "from collections import defaultdict\n",
        "\n",
        "def maior_gasto(caminho_csv):\n",
        "    gastos_por_pessoa = defaultdict(float)\n",
        "    \n",
        "    with open(caminho_csv, newline='', encoding='utf-8') as csvfile:\n",
        "        leitor_csv = csv.DictReader(csvfile)\n",
        "        for linha in leitor_csv:\n",
        "            nome = f\"{linha['nome']} {linha['sobrenome']}\"\n",
        "            gasto = float(linha['compra'])\n",
        "            gastos_por_pessoa[nome] = gasto\n",
        "    \n",
        "    pessoa_que_mais_gastou = max(gastos_por_pessoa, key=gastos_por_pessoa.get)\n",
        "    maior_gasto = gastos_por_pessoa[pessoa_que_mais_gastou]\n",
        "    \n",
        "    return pessoa_que_mais_gastou, maior_gasto\n",
        "\n",
        "# Exemplo de uso\n",
        "caminho_csv = 'compras.csv'\n",
        "nome, compra = maior_gasto(caminho_csv)\n",
        "print(f'A pessoa que mais gastou foi {nome}, com um gasto total de {compra:.2f}.')"
      ]
    },
    {
      "cell_type": "markdown",
      "metadata": {
        "id": "lTCfBbOjXZYx"
      },
      "source": [
        "Com dic"
      ]
    },
    {
      "cell_type": "code",
      "execution_count": 5,
      "metadata": {
        "id": "EPX_3cU33XOh"
      },
      "outputs": [],
      "source": [
        "def encontrar_maior_gasto(dados):\n",
        "    maior_gasto = 0\n",
        "    pessoa_maior_gasto = None\n",
        "\n",
        "    for individuo, info in dados.items():\n",
        "        gasto = float(info['compra'])\n",
        "        if gasto > maior_gasto:\n",
        "            maior_gasto = gasto\n",
        "            pessoa_maior_gasto = info\n",
        "    return pessoa_maior_gasto"
      ]
    },
    {
      "cell_type": "code",
      "execution_count": null,
      "metadata": {
        "id": "lEohRvDSWYlJ"
      },
      "outputs": [],
      "source": [
        "retorno = encontrar_maior_gasto(dados_dicionario)"
      ]
    },
    {
      "cell_type": "markdown",
      "metadata": {
        "id": "-WQ9JImSXa01"
      },
      "source": [
        "Com lista"
      ]
    },
    {
      "cell_type": "code",
      "execution_count": null,
      "metadata": {
        "id": "zTKcFQ6CXHDC"
      },
      "outputs": [],
      "source": [
        "def encontrar_maior_gasto_lista(cabecalho, dados):\n",
        "    indice_compra = cabecalho.index('compra')\n",
        "    maior_gasto = 0\n",
        "    pessoa_maior_gasto = None\n",
        "\n",
        "    for linha in dados:\n",
        "        gasto = float(linha[indice_compra])\n",
        "        if gasto > maior_gasto:\n",
        "            maior_gasto = gasto\n",
        "            pessoa_maior_gasto = linha\n",
        "\n",
        "    pessoa_info = {cabecalho[i]: pessoa_maior_gasto[i] for i in range(len(cabecalho))}\n",
        "    return pessoa_info"
      ]
    },
    {
      "cell_type": "code",
      "execution_count": null,
      "metadata": {
        "colab": {
          "base_uri": "https://localhost:8080/"
        },
        "id": "x4yRgjBfXOPF",
        "outputId": "ceeb29ba-61f8-455e-fa8b-6d4bb261828a"
      },
      "outputs": [
        {
          "data": {
            "text/plain": [
              "{'nome': 'Gabriel',\n",
              " 'sobrenome': 'Pereira',\n",
              " 'idade': '67',\n",
              " 'sexo': 'M',\n",
              " 'compra': '9998',\n",
              " 'ano': '2016',\n",
              " 'pagamento': 'debito'}"
            ]
          },
          "execution_count": 16,
          "metadata": {},
          "output_type": "execute_result"
        }
      ],
      "source": [
        "encontrar_maior_gasto_lista(cabecalho, dados)"
      ]
    },
    {
      "cell_type": "markdown",
      "metadata": {
        "id": "3PBqAffp3o9I"
      },
      "source": [
        "Busque quais são os anos da base de dados?"
      ]
    },
    {
      "cell_type": "code",
      "execution_count": 16,
      "metadata": {
        "id": "lqgX2B6x5fLc"
      },
      "outputs": [
        {
          "name": "stdout",
          "output_type": "stream",
          "text": [
            "Os anos presentes na base de dados são: [2005, 2006, 2007, 2008, 2009, 2010, 2011, 2012, 2013, 2014, 2015, 2016, 2017, 2018, 2019, 2020]\n"
          ]
        }
      ],
      "source": [
        "import csv\n",
        "\n",
        "def anos_da_base(caminho_csv):\n",
        "    anos = set()\n",
        "    \n",
        "    with open(caminho_csv, newline='', encoding='utf-8') as csvfile:\n",
        "        leitor_csv = csv.DictReader(csvfile)\n",
        "        for linha in leitor_csv:\n",
        "            ano = int(linha['ano'])\n",
        "            anos.add(ano)\n",
        "    \n",
        "    lista_anos = sorted(anos)\n",
        "    \n",
        "    return lista_anos\n",
        "\n",
        "# Exemplo de uso\n",
        "caminho_csv = 'compras.csv'\n",
        "anos = anos_da_base(caminho_csv)\n",
        "print(f'Os anos presentes na base de dados são: {anos}')"
      ]
    },
    {
      "cell_type": "markdown",
      "metadata": {
        "id": "R2DKj08Z5tqJ"
      },
      "source": [
        "Qual a porcentagem de homens e mulheres na base de dados?"
      ]
    },
    {
      "cell_type": "code",
      "execution_count": 18,
      "metadata": {
        "id": "3wZDjRn03xB0"
      },
      "outputs": [
        {
          "name": "stdout",
          "output_type": "stream",
          "text": [
            "Porcentagem de homens: 57.16%\n",
            "Porcentagem de mulheres: 42.84%\n"
          ]
        }
      ],
      "source": [
        "import csv\n",
        "\n",
        "def porcentagem_genero(caminho_csv):\n",
        "    total_homens = 0\n",
        "    total_mulheres = 0\n",
        "    \n",
        "    with open(caminho_csv, newline='', encoding='utf-8') as csvfile:\n",
        "        leitor_csv = csv.DictReader(csvfile)\n",
        "        for linha in leitor_csv:\n",
        "            genero = linha['sexo']\n",
        "            if genero == 'M':\n",
        "                total_homens += 1\n",
        "            elif genero == 'F':\n",
        "                total_mulheres += 1\n",
        "    \n",
        "    total_registros = total_homens + total_mulheres\n",
        "    \n",
        "    if total_registros == 0:\n",
        "        porcentagem_homens = 0\n",
        "        porcentagem_mulheres = 0\n",
        "    else:\n",
        "        porcentagem_homens = (total_homens / total_registros) * 100\n",
        "        porcentagem_mulheres = (total_mulheres / total_registros) * 100\n",
        "    \n",
        "    return porcentagem_homens, porcentagem_mulheres\n",
        "\n",
        "# Exemplo de uso\n",
        "caminho_csv = 'compras.csv'\n",
        "porcentagem_homens, porcentagem_mulheres = porcentagem_genero(caminho_csv)\n",
        "print(f'Porcentagem de homens: {porcentagem_homens:.2f}%')\n",
        "print(f'Porcentagem de mulheres: {porcentagem_mulheres:.2f}%')"
      ]
    },
    {
      "cell_type": "markdown",
      "metadata": {
        "id": "Nou_jojr3ztM"
      },
      "source": [
        "Qual foi o gasto por ano?"
      ]
    },
    {
      "cell_type": "code",
      "execution_count": 20,
      "metadata": {
        "id": "hjBuBCDb30YI"
      },
      "outputs": [
        {
          "name": "stdout",
          "output_type": "stream",
          "text": [
            "No ano 2006, o gasto total foi de 1671499.00.\n",
            "No ano 2005, o gasto total foi de 1542645.00.\n",
            "No ano 2010, o gasto total foi de 1611940.00.\n",
            "No ano 2007, o gasto total foi de 1711268.00.\n",
            "No ano 2018, o gasto total foi de 1778911.00.\n",
            "No ano 2019, o gasto total foi de 1717606.00.\n",
            "No ano 2008, o gasto total foi de 1475291.00.\n",
            "No ano 2009, o gasto total foi de 1518779.00.\n",
            "No ano 2015, o gasto total foi de 1514146.00.\n",
            "No ano 2011, o gasto total foi de 1668563.00.\n",
            "No ano 2012, o gasto total foi de 1642695.00.\n",
            "No ano 2017, o gasto total foi de 1645386.00.\n",
            "No ano 2016, o gasto total foi de 1812226.00.\n",
            "No ano 2014, o gasto total foi de 1671750.00.\n",
            "No ano 2020, o gasto total foi de 1515322.00.\n",
            "No ano 2013, o gasto total foi de 1647590.00.\n"
          ]
        }
      ],
      "source": [
        "import csv\n",
        "from collections import defaultdict\n",
        "\n",
        "def gasto_por_ano(caminho_csv):\n",
        "    gastos_por_ano = defaultdict(float)\n",
        "    \n",
        "    with open(caminho_csv, newline='', encoding='utf-8') as csvfile:\n",
        "        leitor_csv = csv.DictReader(csvfile)\n",
        "        for linha in leitor_csv:\n",
        "            ano = int(linha['ano'])\n",
        "            gasto = float(linha['compra'])\n",
        "            gastos_por_ano[ano] += gasto\n",
        "    \n",
        "    return dict(gastos_por_ano)\n",
        "\n",
        "# Exemplo de uso\n",
        "caminho_csv = 'compras.csv'\n",
        "gastos_por_ano = gasto_por_ano(caminho_csv)\n",
        "for ano, gasto in gastos_por_ano.items():\n",
        "    print(f'No ano {ano}, o gasto total foi de {gasto:.2f}.')"
      ]
    },
    {
      "cell_type": "markdown",
      "metadata": {
        "id": "vgN3teMQ32pg"
      },
      "source": [
        "Qual foi o ano com maior gasto?"
      ]
    },
    {
      "cell_type": "code",
      "execution_count": null,
      "metadata": {
        "id": "JmN_ZHBV35ss"
      },
      "outputs": [],
      "source": [
        "import csv\n",
        "from collections import defaultdict\n",
        "\n",
        "def ano_maior_gasto(caminho_csv):\n",
        "    gastos_por_ano = defaultdict(float)\n",
        "    \n",
        "    with open(caminho_csv, newline='', encoding='utf-8') as csvfile:\n",
        "        leitor_csv = csv.DictReader(csvfile)\n",
        "        for linha in leitor_csv:\n",
        "            ano = int(linha['ano'])\n",
        "            gasto = float(linha['compra'])\n",
        "            gastos_por_ano[ano] += gasto\n",
        "    \n",
        "    ano_maior_gasto = max(gastos_por_ano, key=gastos_por_ano.get)\n",
        "    maior_gasto = gastos_por_ano[ano_maior_gasto]\n",
        "    \n",
        "    return ano_maior_gasto, maior_gasto\n",
        "\n",
        "# Exemplo de uso\n",
        "caminho_csv = 'compras.csv'\n",
        "ano, gasto = ano_maior_gasto(caminho_csv)\n",
        "print(f'O ano com o maior gasto foi o de {ano}.')"
      ]
    },
    {
      "cell_type": "markdown",
      "metadata": {
        "id": "V_y9EX0p34-E"
      },
      "source": [
        "Utilizando as faixas etárias, diga quantas pessoas há em cada faixa?"
      ]
    },
    {
      "cell_type": "code",
      "execution_count": 27,
      "metadata": {
        "id": "ukkjPSE738r8"
      },
      "outputs": [
        {
          "name": "stdout",
          "output_type": "stream",
          "text": [
            "Faixa etária 0-18: 91 pessoas.\n",
            "Faixa etária 19-30: 1104 pessoas.\n",
            "Faixa etária 31-45: 1452 pessoas.\n",
            "Faixa etária 46-60: 1461 pessoas.\n",
            "Faixa etária 61+: 892 pessoas.\n"
          ]
        }
      ],
      "source": [
        "import csv\n",
        "from collections import defaultdict\n",
        "\n",
        "def contar_pessoas_por_faixa_etaria(caminho_csv):\n",
        "    faixas_etarias = {\n",
        "        \"0-18\": 0,\n",
        "        \"19-30\": 0,\n",
        "        \"31-45\": 0,\n",
        "        \"46-60\": 0,\n",
        "        \"61+\": 0\n",
        "    }\n",
        "    \n",
        "    with open(caminho_csv, newline='', encoding='utf-8') as csvfile:\n",
        "        leitor_csv = csv.DictReader(csvfile)\n",
        "        for linha in leitor_csv:\n",
        "            idade = int(linha['idade'])\n",
        "            if idade <= 18:\n",
        "                faixas_etarias[\"0-18\"] += 1\n",
        "            elif 19 <= idade <= 30:\n",
        "                faixas_etarias[\"19-30\"] += 1\n",
        "            elif 31 <= idade <= 45:\n",
        "                faixas_etarias[\"31-45\"] += 1\n",
        "            elif 46 <= idade <= 60:\n",
        "                faixas_etarias[\"46-60\"] += 1\n",
        "            else:\n",
        "                faixas_etarias[\"61+\"] += 1\n",
        "    \n",
        "    return faixas_etarias\n",
        "\n",
        "# Exemplo de uso\n",
        "caminho_csv = 'compras.csv'\n",
        "pessoas_por_faixa_etaria = contar_pessoas_por_faixa_etaria(caminho_csv)\n",
        "for faixa, quantidade in pessoas_por_faixa_etaria.items():\n",
        "    print(f'Faixa etária {faixa}: {quantidade} pessoas.')"
      ]
    },
    {
      "cell_type": "markdown",
      "metadata": {
        "id": "_7qmp-1y36Ac"
      },
      "source": [
        "Qual é a faixa etária que mais gasta?"
      ]
    },
    {
      "cell_type": "code",
      "execution_count": 23,
      "metadata": {
        "id": "O0_Wt4I838V0"
      },
      "outputs": [
        {
          "name": "stdout",
          "output_type": "stream",
          "text": [
            "A faixa etária que mais gasta é 46-60, com um gasto total de 1647590.00.\n"
          ]
        }
      ],
      "source": [
        "import csv\n",
        "from collections import defaultdict\n",
        "\n",
        "def gasto_por_faixa_etaria(caminho_csv):\n",
        "    faixas_etarias = {\n",
        "        \"0-18\": 0.0,\n",
        "        \"19-30\": 0.0,\n",
        "        \"31-45\": 0.0,\n",
        "        \"46-60\": 0.0,\n",
        "        \"61+\": 0.0\n",
        "    }\n",
        "    \n",
        "    with open(caminho_csv, newline='', encoding='utf-8') as csvfile:\n",
        "        leitor_csv = csv.DictReader(csvfile)\n",
        "        for linha in leitor_csv:\n",
        "            idade = int(linha['idade'])\n",
        "            gasto = float(linha['compra'])\n",
        "            if idade <= 18:\n",
        "                faixas_etarias[\"0-18\"] += gasto\n",
        "            elif 19 <= idade <= 30:\n",
        "                faixas_etarias[\"19-30\"] += gasto\n",
        "            elif 31 <= idade <= 45:\n",
        "                faixas_etarias[\"31-45\"] += gasto\n",
        "            elif 46 <= idade <= 60:\n",
        "                faixas_etarias[\"46-60\"] += gasto\n",
        "            else:\n",
        "                faixas_etarias[\"61+\"] += gasto\n",
        "    \n",
        "    faixa_que_mais_gasta = max(faixas_etarias, key=faixas_etarias.get)\n",
        "    maior_gasto = faixas_etarias[faixa_que_mais_gasta]\n",
        "    \n",
        "    return faixa_que_mais_gasta, maior_gasto\n",
        "\n",
        "# Exemplo de uso\n",
        "caminho_csv = 'compras.csv'\n",
        "faixa, compra = gasto_por_faixa_etaria(caminho_csv)\n",
        "print(f'A faixa etária que mais gasta é {faixa}, com um gasto total de {gasto:.2f}.')"
      ]
    },
    {
      "cell_type": "markdown",
      "metadata": {
        "id": "L_EUiizw3-jM"
      },
      "source": [
        "A opção de débito é mais utilizada entre homens ou mulheres?"
      ]
    },
    {
      "cell_type": "code",
      "execution_count": 24,
      "metadata": {
        "id": "dIKB7PXj3_DE"
      },
      "outputs": [
        {
          "name": "stdout",
          "output_type": "stream",
          "text": [
            "O débito é mais utilizado por: Homens\n",
            "Total de homens que utilizam débito: 954\n",
            "Total de mulheres que utilizam débito: 731\n"
          ]
        }
      ],
      "source": [
        "import csv\n",
        "from collections import defaultdict\n",
        "\n",
        "def debito_por_genero(caminho_csv):\n",
        "    uso_debito = {'M': 0, 'F': 0}\n",
        "    \n",
        "    with open(caminho_csv, newline='', encoding='utf-8') as csvfile:\n",
        "        leitor_csv = csv.DictReader(csvfile)\n",
        "        for linha in leitor_csv:\n",
        "            genero = linha['sexo']\n",
        "            metodo_pagamento = linha['pagamento']\n",
        "            if metodo_pagamento.lower() == 'debito':\n",
        "                uso_debito[genero] += 1\n",
        "    \n",
        "    if uso_debito['M'] > uso_debito['F']:\n",
        "        genero_mais_usa = 'Homens'\n",
        "    elif uso_debito['F'] > uso_debito['M']:\n",
        "        genero_mais_usa = 'Mulheres'\n",
        "    else:\n",
        "        genero_mais_usa = 'Igual'\n",
        "    \n",
        "    return genero_mais_usa, uso_debito['M'], uso_debito['F']\n",
        "\n",
        "# Exemplo de uso\n",
        "caminho_csv = 'compras.csv'\n",
        "genero_mais_usa, total_homens, total_mulheres = debito_por_genero(caminho_csv)\n",
        "print(f'O débito é mais utilizado por: {genero_mais_usa}')\n",
        "print(f'Total de homens que utilizam débito: {total_homens}')\n",
        "print(f'Total de mulheres que utilizam débito: {total_mulheres}')"
      ]
    },
    {
      "cell_type": "markdown",
      "metadata": {
        "id": "jOMpl3Th4Bkm"
      },
      "source": [
        "Qual o sobrenome que mais aparece na base de dados?"
      ]
    },
    {
      "cell_type": "code",
      "execution_count": 9,
      "metadata": {
        "id": "LDFe_62s4B_Q"
      },
      "outputs": [
        {
          "name": "stdout",
          "output_type": "stream",
          "text": [
            "O sobrenome que mais aparece é Alves, aparecendo 768 vezes.\n"
          ]
        }
      ],
      "source": [
        "import csv\n",
        "from collections import defaultdict\n",
        "\n",
        "def sobrenome_mais_frequente(caminho_csv):\n",
        "    contagem_sobrenomes = defaultdict(int)\n",
        "    \n",
        "    with open(caminho_csv, newline='', encoding='utf-8') as csvfile:\n",
        "        leitor_csv = csv.DictReader(csvfile)\n",
        "        for linha in leitor_csv:\n",
        "            sobrenome = linha['sobrenome']\n",
        "            contagem_sobrenomes[sobrenome] += 1\n",
        "    \n",
        "    sobrenome_mais_comum = max(contagem_sobrenomes, key=contagem_sobrenomes.get)\n",
        "    frequencia = contagem_sobrenomes[sobrenome_mais_comum]\n",
        "    \n",
        "    return sobrenome_mais_comum, frequencia\n",
        "\n",
        "# Exemplo de uso\n",
        "caminho_csv = 'compras.csv'\n",
        "sobrenome, frequencia = sobrenome_mais_frequente(caminho_csv)\n",
        "print(f'O sobrenome que mais aparece é {sobrenome}, aparecendo {frequencia} vezes.')\n"
      ]
    },
    {
      "cell_type": "markdown",
      "metadata": {
        "id": "Q7VS9K_Q4ECM"
      },
      "source": [
        "Qual foi o ano em que os homens mais usaram o crédito?"
      ]
    },
    {
      "cell_type": "code",
      "execution_count": 25,
      "metadata": {
        "id": "5H60b3n64Ee0"
      },
      "outputs": [
        {
          "name": "stdout",
          "output_type": "stream",
          "text": [
            "O ano em que os homens mais usaram crédito foi 2018, com 71 usos.\n"
          ]
        }
      ],
      "source": [
        "import csv\n",
        "from collections import defaultdict\n",
        "\n",
        "def ano_homens_mais_uso_credito(caminho_csv):\n",
        "    uso_credito_por_ano = defaultdict(int)\n",
        "    \n",
        "    with open(caminho_csv, newline='', encoding='utf-8') as csvfile:\n",
        "        leitor_csv = csv.DictReader(csvfile)\n",
        "        for linha in leitor_csv:\n",
        "            genero = linha['sexo']\n",
        "            ano = int(linha['ano'])\n",
        "            metodo_pagamento = linha['pagamento']\n",
        "            if genero == 'M' and metodo_pagamento.lower() == 'credito':\n",
        "                uso_credito_por_ano[ano] += 1\n",
        "    \n",
        "    ano_mais_uso_credito = max(uso_credito_por_ano, key=uso_credito_por_ano.get)\n",
        "    quantidade_uso_credito = uso_credito_por_ano[ano_mais_uso_credito]\n",
        "    \n",
        "    return ano_mais_uso_credito, quantidade_uso_credito\n",
        "\n",
        "# Exemplo de uso\n",
        "caminho_csv = 'compras.csv'\n",
        "ano, quantidade = ano_homens_mais_uso_credito(caminho_csv)\n",
        "print(f'O ano em que os homens mais usaram crédito foi {ano}, com {quantidade} usos.')"
      ]
    },
    {
      "cell_type": "markdown",
      "metadata": {
        "id": "ebnmp5KD4GPw"
      },
      "source": [
        "Qual opção de pagamento é mais utilizada em cada faixa etária?"
      ]
    },
    {
      "cell_type": "code",
      "execution_count": 11,
      "metadata": {
        "id": "NumXkC5p4H7s"
      },
      "outputs": [
        {
          "name": "stdout",
          "output_type": "stream",
          "text": [
            "Faixa etária 0-18:\n",
            "  Método de pagamento debito: 28 vezes\n",
            "  Método de pagamento credito: 32 vezes\n",
            "  Método de pagamento dinheiro: 31 vezes\n",
            "Faixa etária 19-30:\n",
            "  Método de pagamento dinheiro: 374 vezes\n",
            "  Método de pagamento credito: 352 vezes\n",
            "  Método de pagamento debito: 378 vezes\n",
            "Faixa etária 31-45:\n",
            "  Método de pagamento credito: 490 vezes\n",
            "  Método de pagamento dinheiro: 485 vezes\n",
            "  Método de pagamento debito: 477 vezes\n",
            "Faixa etária 46-60:\n",
            "  Método de pagamento debito: 502 vezes\n",
            "  Método de pagamento dinheiro: 476 vezes\n",
            "  Método de pagamento credito: 483 vezes\n",
            "Faixa etária 61+:\n",
            "  Método de pagamento credito: 290 vezes\n",
            "  Método de pagamento debito: 300 vezes\n",
            "  Método de pagamento dinheiro: 302 vezes\n"
          ]
        }
      ],
      "source": [
        "import csv\n",
        "from collections import defaultdict\n",
        "\n",
        "def opcoes_pagamento_por_faixa_etaria(caminho_csv):\n",
        "    faixas_etarias = {\n",
        "        \"0-18\": defaultdict(int),\n",
        "        \"19-30\": defaultdict(int),\n",
        "        \"31-45\": defaultdict(int),\n",
        "        \"46-60\": defaultdict(int),\n",
        "        \"61+\": defaultdict(int)\n",
        "    }\n",
        "  \n",
        "    with open(caminho_csv, newline='', encoding='utf-8') as csvfile:\n",
        "        leitor_csv = csv.DictReader(csvfile)\n",
        "        for linha in leitor_csv:\n",
        "            idade = int(linha['idade'])\n",
        "            metodo_pagamento = linha['pagamento']\n",
        "            if idade <= 18:\n",
        "                faixa = \"0-18\"\n",
        "            elif 19 <= idade <= 30:\n",
        "                faixa = \"19-30\"\n",
        "            elif 31 <= idade <= 45:\n",
        "                faixa = \"31-45\"\n",
        "            elif 46 <= idade <= 60:\n",
        "                faixa = \"46-60\"\n",
        "            else:\n",
        "                faixa = \"61+\"\n",
        "            faixas_etarias[faixa][metodo_pagamento] += 1\n",
        "    \n",
        "    return faixas_etarias\n",
        "\n",
        "# Exemplo de uso\n",
        "caminho_csv = 'compras.csv'\n",
        "faixas_etarias_pagamento = opcoes_pagamento_por_faixa_etaria(caminho_csv)\n",
        "for faixa, pagamentos in faixas_etarias_pagamento.items():\n",
        "    print(f'Faixa etária {faixa}:')\n",
        "    for metodo, quantidade in pagamentos.items():\n",
        "        print(f'  Método de pagamento {metodo}: {quantidade} vezes')"
      ]
    },
    {
      "cell_type": "markdown",
      "metadata": {
        "id": "jRKhI6Dv4IQJ"
      },
      "source": [
        "Qual o valor gasto em compras por jovens do ano de 2010 até 2015?"
      ]
    },
    {
      "cell_type": "code",
      "execution_count": 26,
      "metadata": {
        "id": "6SXstcF54Itk"
      },
      "outputs": [
        {
          "name": "stdout",
          "output_type": "stream",
          "text": [
            "O valor total gasto em compras por jovens do ano de 2010 a 2015 foi de R$2021385.00.\n"
          ]
        }
      ],
      "source": [
        "import csv\n",
        "\n",
        "def valor_gasto_por_jovens(caminho_csv):\n",
        "    valor_total_gasto = 0\n",
        "    \n",
        "    with open(caminho_csv, newline='', encoding='utf-8') as csvfile:\n",
        "        leitor_csv = csv.DictReader(csvfile)\n",
        "        for linha in leitor_csv:\n",
        "            idade = int(linha['idade'])\n",
        "            ano = int(linha['ano'])\n",
        "            gasto = float(linha['compra'])\n",
        "            if 19 <= idade <= 30 and 2010 <= ano <= 2015:\n",
        "                valor_total_gasto += gasto\n",
        "    \n",
        "    return valor_total_gasto\n",
        "\n",
        "# Exemplo de uso\n",
        "caminho_csv = 'compras.csv'\n",
        "valor_total_gasto_jovens = valor_gasto_por_jovens(caminho_csv)\n",
        "print(f'O valor total gasto em compras por jovens do ano de 2010 a 2015 foi de R${valor_total_gasto_jovens:.2f}.')"
      ]
    }
  ],
  "metadata": {
    "colab": {
      "provenance": []
    },
    "kernelspec": {
      "display_name": "Python 3",
      "name": "python3"
    },
    "language_info": {
      "codemirror_mode": {
        "name": "ipython",
        "version": 3
      },
      "file_extension": ".py",
      "mimetype": "text/x-python",
      "name": "python",
      "nbconvert_exporter": "python",
      "pygments_lexer": "ipython3",
      "version": "3.11.7"
    }
  },
  "nbformat": 4,
  "nbformat_minor": 0
}
