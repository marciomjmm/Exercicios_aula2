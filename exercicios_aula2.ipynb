{
 "cells": [
  {
   "cell_type": "markdown",
   "metadata": {},
   "source": [
    "Conversão de graus Celsius para Fahrenheit - Crie um programa que converta graus Celsius para Fahreinheit. A fórmula é a seguinte F = C x 1.8 + 32.\n",
    "O programa deve solicitar ao usuário que insira uma temperatura em graus Celsius e, em seguida, exiba a temperatura convertida em Fahrenheit. Após construir esse programa, modifique-o para que converta graus Fahrenheit em graus Celsius."
   ]
  },
  {
   "cell_type": "code",
   "execution_count": 17,
   "metadata": {},
   "outputs": [
    {
     "name": "stdout",
     "output_type": "stream",
     "text": [
      "A temperatura de 33.0°C, corresponde a 91.4°F\n"
     ]
    }
   ],
   "source": [
    "c = float(input('Informe a temperatura em °C: '))\n",
    "f = c * 1.8 + 32\n",
    "\n",
    "print(f'A temperatura de {c}°C, corresponde a {f}°F')"
   ]
  },
  {
   "cell_type": "code",
   "execution_count": 16,
   "metadata": {},
   "outputs": [
    {
     "name": "stdout",
     "output_type": "stream",
     "text": [
      "A temperaruta de 91.4°F, corresponde a 33.0°C\n"
     ]
    }
   ],
   "source": [
    "f = float(input('Informe a temperatura em °F: '))\n",
    "c = (f-32) / 1.8\n",
    "\n",
    "print(f'A temperaruta de {f}°F, corresponde a {c}°C')"
   ]
  },
  {
   "cell_type": "markdown",
   "metadata": {},
   "source": [
    "2- Escreva um programa que receba um número e escreva “Par” caso esse número seja par e escreva “Impar” caso esse número seja impar."
   ]
  },
  {
   "cell_type": "code",
   "execution_count": 40,
   "metadata": {},
   "outputs": [
    {
     "name": "stdout",
     "output_type": "stream",
     "text": [
      "O numero é impar\n"
     ]
    }
   ],
   "source": [
    "numero = int(input('Digite um numero: '))\n",
    "\n",
    "if (numero % 2) == 0:\n",
    "    print('O numero é par')\n",
    "else:\n",
    "    print('O numero é impar')"
   ]
  },
  {
   "cell_type": "markdown",
   "metadata": {},
   "source": [
    "3 - Escreva um programa que receba dois números, exiba as opções:\n",
    "1 - adição\n",
    "2 - subtração .\n",
    "Então peça ao usuário para escolher uma das opções. Caso escolha a opção 1 o programa deve realizar a soma dos dois números lidos e exibir. Caso escolha a opção 2 o programa deve realizar a subtração dos dois números lidos e exibir."
   ]
  },
  {
   "cell_type": "code",
   "execution_count": 46,
   "metadata": {},
   "outputs": [
    {
     "name": "stdout",
     "output_type": "stream",
     "text": [
      "Resultado:  20\n"
     ]
    }
   ],
   "source": [
    "a = int(input(\"Primeiro número:\"))\n",
    "b = int(input(\"Segundo número:\"))\n",
    "operação = input(\"Digite a operação a realizar (+,-):\")\n",
    "if operação == \"+\":\n",
    "    resultado = a + b\n",
    "else:\n",
    "    operação == \"-\"\n",
    "    resultado = a - b\n",
    "\n",
    "print(\"Resultado: \", resultado)"
   ]
  },
  {
   "cell_type": "markdown",
   "metadata": {},
   "source": [
    "4 - Numa determinada escola, os critérios de aprovação são os seguintes:\n",
    "- O aluno deve ter, no máximo, 25% de faltas;\n",
    "- A nota final deve ser igual ou superior a 7,00.\n",
    "Construa um programa para ler as notas que um aluno tirou nos 4 bimestres, o número total de aulas e o número de faltas, mostrando ao final a situação do aluno como sendo “Aprovado”, “Reprovado por Faltas” e “Reprovado por média”, considerando que a reprovação por faltas se sobrepõe a reprovação por nota."
   ]
  },
  {
   "cell_type": "code",
   "execution_count": 78,
   "metadata": {},
   "outputs": [
    {
     "name": "stdout",
     "output_type": "stream",
     "text": [
      "Aluno Aprovado\n"
     ]
    }
   ],
   "source": [
    "nota1 = float(input('Digite a primeira nota: '))\n",
    "nota2 = float(input('Digite a segunda nota: '))\n",
    "nota3 = float(input('Digite a terceira nota: '))\n",
    "nota4 = float(input('Digite a quarta nota: '))\n",
    "faltas = float(input('Digite a quantidade de faltas: '))\n",
    "\n",
    "\n",
    "média_notas = float(nota1 + nota2 + nota3 + nota4) / 4\n",
    "total_de_aulas = 150\n",
    "média_falta = total_de_aulas*25/100\n",
    "\n",
    "if média_notas >= 7 and faltas >= média_falta:\n",
    "    print('Aluno reprovado por faltas')\n",
    "elif média_notas < 7:\n",
    "    print('Aluno reprovado por média')\n",
    "else:\n",
    "    print('Aluno Aprovado')\n"
   ]
  },
  {
   "cell_type": "markdown",
   "metadata": {},
   "source": [
    "5 - Após construir o programa anterior, crie mais duas versões dele para prever as seguintes situações:\n",
    "- Um aluno pode ficar em recuperação se possuir frequência suficiente (superior a 75%) e média superior a 5 mas inferior a 7;\n"
   ]
  },
  {
   "cell_type": "code",
   "execution_count": 86,
   "metadata": {},
   "outputs": [
    {
     "name": "stdout",
     "output_type": "stream",
     "text": [
      "Aluno em recuperação\n"
     ]
    }
   ],
   "source": [
    "nota1 = float(input('Digite a primeira nota: '))\n",
    "nota2 = float(input('Digite a segunda nota: '))\n",
    "nota3 = float(input('Digite a terceira nota: '))\n",
    "nota4 = float(input('Digite a quarta nota: '))\n",
    "faltas = float(input('Digite a quantidade de faltas: '))\n",
    "\n",
    "\n",
    "média_notas = float(nota1 + nota2 + nota3 + nota4) / 4\n",
    "total_de_aulas = 150\n",
    "média_falta = total_de_aulas*25/100\n",
    "\n",
    "if média_notas >= 5 and média_notas <7 and faltas < média_notas:\n",
    "    print('Aluno em recuperação')\n",
    "elif média_notas >= 7 and faltas >= média_falta:\n",
    "    print('Reprovado por faltas')\n",
    "elif média_notas < 7:\n",
    "    print('Reprovado por média')\n",
    "else:\n",
    "    print('Aluno Aprovado')"
   ]
  },
  {
   "cell_type": "markdown",
   "metadata": {},
   "source": [
    "- Caso um aluno reprove por média e faltas, sua situação deve ser “Reprovado por Média e Faltas” (ao invés de simplesmente “Reprovado por Faltas” como antes)."
   ]
  },
  {
   "cell_type": "code",
   "execution_count": 103,
   "metadata": {},
   "outputs": [
    {
     "name": "stdout",
     "output_type": "stream",
     "text": [
      "Aluno reprovado por média e faltas\n"
     ]
    }
   ],
   "source": [
    "nota1 = float(input('Digite a primeira nota: '))\n",
    "nota2 = float(input('Digite a segunda nota: '))\n",
    "nota3 = float(input('Digite a terceira nota: '))\n",
    "nota4 = float(input('Digite a quarta nota: '))\n",
    "faltas = float(input('Digite a quantidade de faltas: '))\n",
    "\n",
    "\n",
    "média_notas = float(nota1 + nota2 + nota3 + nota4) / 4\n",
    "total_de_aulas = 150\n",
    "média_falta = total_de_aulas*25/100\n",
    "\n",
    "if média_notas >= 5 and média_notas < 7 and faltas < média_notas:\n",
    "    print('Aluno em recuperação')\n",
    "elif média_notas < 7 and faltas > média_falta:\n",
    "    print('Aluno reprovado por média e faltas')\n",
    "elif média_notas >= 7 and faltas >= média_falta:\n",
    "    print('Reprovado por faltas')\n",
    "elif média_notas < 7:\n",
    "    print('Reprovado por média')\n",
    "else:\n",
    "    print('Aluno Aprovado')"
   ]
  },
  {
   "cell_type": "markdown",
   "metadata": {},
   "source": [
    "6 - Escreva um programa que peça ao usuário para fornecer um dia, mês e o ano arbitrários e determine se esses dados correspondem a uma data válida. Não deixe de considerar que existem meses com 30 e 31 dias, e que fevereiro pode ter 28 ou 29 dias, dependendo se o ano for bissexto. Considere que um ano é bissexto quando for divisível por 4."
   ]
  },
  {
   "cell_type": "code",
   "execution_count": 16,
   "metadata": {},
   "outputs": [
    {
     "name": "stdout",
     "output_type": "stream",
     "text": [
      "Data válida\n"
     ]
    }
   ],
   "source": [
    "dia = int( input('Dia: ') )\n",
    "mes = int( input('Mês: ') )\n",
    "ano = int( input('Ano: ') )\n",
    "\n",
    "valida = False\n",
    "    \n",
    "    # Meses com 31 dias\n",
    "if ( mes == 1 or mes == 3 or mes == 5 or mes == 7 or \\\n",
    "        mes == 8 or mes == 10 or mes == 12):\n",
    "        if(dia<=31):\n",
    "            valida = True\n",
    "    # Meses com 30 dias\n",
    "elif( mes==4 or mes==6 or mes==9 or mes==11):\n",
    "        if(dia<=30):\n",
    "            valida = True\n",
    "elif mes==2:    \n",
    "    # Testa se é bixesto \n",
    "    if (ano%4==0 and ano%100!=0) or (ano%400==0):\n",
    "            if(dia<=29):\n",
    "                valida = True\n",
    "elif(dia<=28):\n",
    "                valida = True\n",
    "\n",
    "if(valida):\n",
    "        print('Data válida')\n",
    "else:\n",
    "        print('Inválida')"
   ]
  },
  {
   "cell_type": "markdown",
   "metadata": {},
   "source": [
    "7- Construa um programa que leia uma data qualquer (dia, mês e ano) e calcule a data do próximo dia. Lembre-se que em anos bissextos o mês de fevereiro tem 29 dias. Lembre-seque um ano é bissexto quando for divisível por 4."
   ]
  },
  {
   "cell_type": "code",
   "execution_count": null,
   "metadata": {},
   "outputs": [],
   "source": []
  },
  {
   "cell_type": "markdown",
   "metadata": {},
   "source": [
    "8 - Faça um programa que leia as duas notas parciais obtidas por um aluno numa disciplina ao longo de um semestre, e calcule a sua média. A atribuição de conceitos obedece à tabela abaixo:\n",
    "Média de Aproveitamento\n",
    "- Entre 9.0 e 10.0 Conceito - A\n",
    "- Entre 7.5 e 8.9 - B\n",
    "- Entre 6.0 e 7.4 - C\n",
    "- Entre 4.0 e 5.9 - D\n",
    "- Entre 0 e 3.9 - E\n",
    "\n",
    "O programa deve mostrar na tela as notas, a média, o conceito correspondente e a\n",
    "mensagem:\n",
    "APROVADO se o conceito for A, B ou C.\n",
    "REPROVADO se o conceito for D ou E."
   ]
  },
  {
   "cell_type": "code",
   "execution_count": 98,
   "metadata": {},
   "outputs": [
    {
     "name": "stdout",
     "output_type": "stream",
     "text": [
      "Nota 1: 6.00\n",
      "Nota 2:6.00\n",
      "Média: 6.00\n",
      "Conceito: C\n",
      "Resultado: Aprovado!\n"
     ]
    }
   ],
   "source": [
    "nota1 = float(input(\"Digite nota 1: \"))\n",
    "nota2 = float(input(\"Digite nota 2: \"))\n",
    "media = (nota1+nota2)/2\n",
    "\n",
    "if media >=9:\n",
    "   conceito = \"A\"\n",
    "elif media >= 7.5:\n",
    "   conceito = \"B\"\n",
    "elif media >= 6:\n",
    "    conceito = \"C\"\n",
    "elif media >= 4:\n",
    "    conceito = \"D\"\n",
    "elif media >= 0:\n",
    "    conceito = \"E\"\n",
    "if conceito == \"A\" or \"B\" or \"C\":\n",
    "    resultado = \"Aprovado!\"\n",
    "elif conceito == \"D\" or \"E\":\n",
    "    resultado = \"Reprovado\"\n",
    "print(\"Nota 1: %.2f\\n Nota 2:%.2f\"%(nota1,nota2))\n",
    "print(\"Média: %.2f\"% media)\n",
    "print(\"Conceito: %s\"% conceito)\n",
    "print(\"Resultado: %s\"% resultado)"
   ]
  },
  {
   "cell_type": "markdown",
   "metadata": {},
   "source": [
    "9 - As Organizações XTC resolveram dar um aumento de salário aos seus colaboradores e lhe contrataram para desenvolver o programa que calcula os reajustes. Faça um programa que recebe o salário de um colaborador e o reajuste segundo o seguinte critério, baseado no salário atual:\n",
    "- salários até R$ 280,00 (incluindo): aumento de 20%\n",
    "- salários entre R$ 280,00 e R$ 700,00: aumento de 15%\n",
    "- salários entre R$ 700,00 e R$ 1500,00: aumento de 10%\n",
    "- salários de R$ 1500,00 em diante: aumento de 5%\n",
    "\n",
    "Após o aumento ser realizado informe na tela:\n",
    "- o salário antes do reajuste;\n",
    "- o percentual de aumento aplicado;\n",
    "- o valor do aumento;\n",
    "- o novo salário, após o aumento."
   ]
  },
  {
   "cell_type": "code",
   "execution_count": 95,
   "metadata": {},
   "outputs": [
    {
     "name": "stdout",
     "output_type": "stream",
     "text": [
      "Salário original: R$ 1350.0\n",
      "Percentual:  10 %\n",
      "Aumento: R$ 270.0\n",
      "Novo Salário: R$ 1620.0\n"
     ]
    }
   ],
   "source": [
    "salário = float(input('Digite o salário do colaborador: '))\n",
    "percentual = percentual/100\n",
    "aumento = percentual * salário\n",
    "novo_salário = salário + aumento\n",
    "\n",
    "if (salário <= 280):\n",
    "    percentual = 20\n",
    "    print('Salário original: R$', salário)\n",
    "    print('Percentual: ', percentual,'%')\n",
    "    print('Aumento: R$', aumento)\n",
    "    print('Novo Salário: R$', novo_salário)\n",
    "elif (salário <= 700):\n",
    "    percentual = 15\n",
    "    print('Salário original: R$', salário)\n",
    "    print('Percentual: ', percentual,'%')\n",
    "    print('Aumento: R$', aumento)\n",
    "    print('Novo Salário: R$', novo_salário)\n",
    "elif (salário <= 1500):\n",
    "    percentual = 10\n",
    "    print('Salário original: R$', salário)\n",
    "    print('Percentual: ', percentual,'%')\n",
    "    print('Aumento: R$', aumento)\n",
    "    print('Novo Salário: R$', novo_salário)\n",
    "else:\n",
    "    percentual = 5\n",
    "    print('Salário original: R$', salário)\n",
    "    print('Percentual: ', percentual,'%')\n",
    "    print('Aumento: R$', aumento)\n",
    "    print('Novo Salário: R$', novo_salário)"
   ]
  }
 ],
 "metadata": {
  "kernelspec": {
   "display_name": "base",
   "language": "python",
   "name": "python3"
  },
  "language_info": {
   "codemirror_mode": {
    "name": "ipython",
    "version": 3
   },
   "file_extension": ".py",
   "mimetype": "text/x-python",
   "name": "python",
   "nbconvert_exporter": "python",
   "pygments_lexer": "ipython3",
   "version": "3.11.7"
  }
 },
 "nbformat": 4,
 "nbformat_minor": 2
}
